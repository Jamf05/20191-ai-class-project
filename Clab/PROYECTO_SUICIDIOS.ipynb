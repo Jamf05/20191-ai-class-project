{
 "cells": [
  {
   "cell_type": "code",
   "execution_count": 0,
   "metadata": {
    "colab": {},
    "colab_type": "code",
    "id": "2qqYeVpbz0r4",
    "slideshow": {
     "slide_type": "slide"
    }
   },
   "outputs": [],
   "source": [
    "import numpy as np\n",
    "import pandas as pd\n",
    "import matplotlib.pyplot as plt\n",
    "from sklearn.model_selection import KFold\n",
    "from sklearn.metrics import *\n",
    "\n",
    "%matplotlib inline"
   ]
  },
  {
   "cell_type": "markdown",
   "metadata": {
    "colab_type": "text",
    "id": "8GGVmOpGUjYl",
    "slideshow": {
     "slide_type": "slide"
    }
   },
   "source": [
    "# <center>ANALISIS DE LA TASA DE SUICIDIOS A NIVEL MUNDIAL </center>\n",
    "\n",
    "- Jorge Andres Mogotocoro Fajardo - 2160075\n",
    "- Jheyson Arley Jaimes Esteban - 2160076\n",
    "- Andres Ricardo Hernandez Torres - 2122274"
   ]
  },
  {
   "cell_type": "code",
   "execution_count": 0,
   "metadata": {
    "colab": {
     "base_uri": "https://localhost:8080/",
     "height": 122
    },
    "colab_type": "code",
    "id": "FY_LW-Oq-hj3",
    "outputId": "f559454c-c7ef-48e0-8404-8328c2651f7b",
    "slideshow": {
     "slide_type": "skip"
    }
   },
   "outputs": [
    {
     "name": "stdout",
     "output_type": "stream",
     "text": [
      "Go to this URL in a browser: https://accounts.google.com/o/oauth2/auth?client_id=947318989803-6bn6qk8qdgf4n4g3pfee6491hc0brc4i.apps.googleusercontent.com&redirect_uri=urn%3Aietf%3Awg%3Aoauth%3A2.0%3Aoob&scope=email%20https%3A%2F%2Fwww.googleapis.com%2Fauth%2Fdocs.test%20https%3A%2F%2Fwww.googleapis.com%2Fauth%2Fdrive%20https%3A%2F%2Fwww.googleapis.com%2Fauth%2Fdrive.photos.readonly%20https%3A%2F%2Fwww.googleapis.com%2Fauth%2Fpeopleapi.readonly&response_type=code\n",
      "\n",
      "Enter your authorization code:\n",
      "··········\n",
      "Mounted at /content/drive\n"
     ]
    }
   ],
   "source": [
    "from google.colab import drive\n",
    "drive.mount(\"/content/drive\")"
   ]
  },
  {
   "cell_type": "code",
   "execution_count": 0,
   "metadata": {
    "colab": {},
    "colab_type": "code",
    "id": "30kAr2CBB-pQ"
   },
   "outputs": [],
   "source": [
    "#url example './drive/My Drive/Colab Notebooks/Python/Cursos/2019-1 Inteligencia Artificial I/'\n",
    "# ./drive/My Drive/Colab Notebooks/Python/Cursos/2019-1 Inteligencia Artificial I/Proyectos/Resumen de las tasas de suicidio de 1985 a 2016/master.csv"
   ]
  },
  {
   "cell_type": "markdown",
   "metadata": {
    "colab_type": "text",
    "id": "AGa21HjRUr-a",
    "slideshow": {
     "slide_type": "slide"
    }
   },
   "source": [
    "**No olvidar poner en la variable path la direccion de drive donde se trabaja...** \\\\\n",
    "**NOTA:** Experimentando un poco he llegado a la conclusion que no es tan eficiente trabajar varios en un mismos documento por tanto sugiero lo siguiente:\n",
    "\n",
    "- Las variables *path* dado que es dependiente de cada uno por favor usar celdas independiente con su propia direccion asi el proximo que llegue a editar puede volver a ejecutar su progreso anterior.\n",
    "- No editar las celdas ya implementadas, en lo posible mejor agregar comentarios sobre dudas o errores cometidos."
   ]
  },
  {
   "cell_type": "markdown",
   "metadata": {
    "colab_type": "text",
    "id": "hCIlDkchz0s1",
    "slideshow": {
     "slide_type": "slide"
    }
   },
   "source": [
    "#  <CENTER>MOTIVACIÓN:\n",
    "    \n",
    "![texto alternativo](https://github.com/Jamf05/20191-ai-class-project/blob/master/suicidios.png?raw=true)"
   ]
  },
  {
   "cell_type": "markdown",
   "metadata": {
    "colab_type": "text",
    "id": "otE1pkxL90wn",
    "slideshow": {
     "slide_type": "slide"
    }
   },
   "source": [
    "#### Contenido:\n",
    "Este conjunto de datos compilado se extrajo de otros cuatro conjuntos de datos vinculados por tiempo y lugar, y se creó para encontrar señales correlacionadas con el aumento de las tasas de suicidio entre diferentes cohortes a nivel mundial, en todo el espectro socioeconómico.\n",
    "\n",
    "#### Columnas:\n",
    "país, año, sexo, grupo de edad, conteo de suicidios, población, tasa de suicidios, clave compuesta país-año, IDH por año, gdp_for_year, gdp_per_capita, generación (según el promedio de agrupación por edad).\n",
    "\n",
    "#### Definiciones:\n",
    "\n",
    "- **HDI (IDH):** Indice de desarrollo humano. Es un indicador sintético de los logros,medios obtenidos en las dimensiones fundamentales del desarrollo humano, a saber, tener una vida larga y saludable, adquirir conocimientos y disfrutar de un nivel de vida digno.\n",
    "- **GDP (PIB):** Producto interno bruto. En unidades de (Dólares estadounidenses actuales). Las fuentes incluyen: Banco Mundial, Naciones Unidas."
   ]
  },
  {
   "cell_type": "markdown",
   "metadata": {
    "colab_type": "text",
    "id": "qMdIi6N190wp",
    "slideshow": {
     "slide_type": "slide"
    }
   },
   "source": [
    "# <center>Objetivos :</center>\n",
    "\n",
    "#### Regresion (**La clases pertenecen a los reales**):\n",
    "\n",
    "- Predecir el numero de suicidos (suicides_no) para unos determinados datos de entrada (country, year, sex, age, ¿population?).\n",
    "- Precedir la probabilidad de que una persona se suicide (**suicides_no(desconocido) / population**) segun ciertas condiciones (**Locacion especifica, condiciones de vida, ...**) <p> **Posibles complicaciones**: Solo se estaria determinando la probabilidad a partir de las condiciones de vida economicas del pais dejando de lado las personales, ¿hasta que punto es posible realizar regresion? teniendo en cuenta la caractaristica **year**.</p>\n",
    "- Determinar patrones de acuerdo a ciertas caracteristicas que presenten mayor influencia en las tazas de suicidios."
   ]
  },
  {
   "cell_type": "markdown",
   "metadata": {
    "colab_type": "text",
    "id": "viWDdWbf68Ro",
    "slideshow": {
     "slide_type": "slide"
    }
   },
   "source": [
    "# <center><strong>Tratamiento de datos:</strong></font></center>\n",
    "### A continuacion se procede a cargar el dataset de suicidios que se encuentran en formato csv disponible en la pagina de kaggle en el siguiente enlace: <br><br><center> https://www.kaggle.com/russellyates88/suicide-rates-overview-1985-to-2016\n",
    "</center>\n",
    "### Ademas se carga el dataset de codigo de paises para ser codificados disponible en formato csv en el siguiente enlace:<br><br><center> https://gist.github.com/radcliff/f09c0f88344a7fcef373 </center>"
   ]
  },
  {
   "cell_type": "code",
   "execution_count": 0,
   "metadata": {
    "colab": {},
    "colab_type": "code",
    "id": "oQ0i36S9C-U-",
    "slideshow": {
     "slide_type": "slide"
    }
   },
   "outputs": [],
   "source": [
    "# No olvidar poner en la variable path la direccion de drive donde se trabaja...\n",
    "path = './drive/My Drive/Colab Notebooks/Python/Cursos/2019-1 Inteligencia Artificial I/Proyectos/Resumen de las tasas de suicidio de 1985 a 2016/' "
   ]
  },
  {
   "cell_type": "code",
   "execution_count": 0,
   "metadata": {
    "colab": {
     "base_uri": "https://localhost:8080/",
     "height": 34
    },
    "colab_type": "code",
    "id": "bybGM9GK90wq",
    "outputId": "aea80c69-ba03-4b15-9788-936d703d1ebd",
    "slideshow": {
     "slide_type": "slide"
    }
   },
   "outputs": [
    {
     "name": "stdout",
     "output_type": "stream",
     "text": [
      "(27820, 12)\n"
     ]
    }
   ],
   "source": [
    "d = pd.read_csv('master.csv')\n",
    "country_codes = pd.read_csv(\"wikipedia-iso-country-codes.csv\")\n",
    "print d.shape"
   ]
  },
  {
   "cell_type": "code",
   "execution_count": 0,
   "metadata": {
    "colab": {
     "base_uri": "https://localhost:8080/",
     "height": 394
    },
    "colab_type": "code",
    "id": "5q4m8wzD90w2",
    "outputId": "a8c1d053-5279-4574-eadb-75845acde9c2",
    "slideshow": {
     "slide_type": "slide"
    }
   },
   "outputs": [
    {
     "data": {
      "text/html": [
       "<div>\n",
       "<style scoped>\n",
       "    .dataframe tbody tr th:only-of-type {\n",
       "        vertical-align: middle;\n",
       "    }\n",
       "\n",
       "    .dataframe tbody tr th {\n",
       "        vertical-align: top;\n",
       "    }\n",
       "\n",
       "    .dataframe thead th {\n",
       "        text-align: right;\n",
       "    }\n",
       "</style>\n",
       "<table border=\"1\" class=\"dataframe\">\n",
       "  <thead>\n",
       "    <tr style=\"text-align: right;\">\n",
       "      <th></th>\n",
       "      <th>country</th>\n",
       "      <th>year</th>\n",
       "      <th>sex</th>\n",
       "      <th>age</th>\n",
       "      <th>suicides_no</th>\n",
       "      <th>population</th>\n",
       "      <th>suicides/100k_pop</th>\n",
       "      <th>country-year</th>\n",
       "      <th>HDI_for_year</th>\n",
       "      <th>gdp_for_year</th>\n",
       "      <th>gdp_per_capita</th>\n",
       "      <th>generation</th>\n",
       "    </tr>\n",
       "  </thead>\n",
       "  <tbody>\n",
       "    <tr>\n",
       "      <th>0</th>\n",
       "      <td>Albania</td>\n",
       "      <td>1987</td>\n",
       "      <td>male</td>\n",
       "      <td>15-24 years</td>\n",
       "      <td>21</td>\n",
       "      <td>312900</td>\n",
       "      <td>6.71</td>\n",
       "      <td>Albania1987</td>\n",
       "      <td>NaN</td>\n",
       "      <td>2,156,624,900</td>\n",
       "      <td>796</td>\n",
       "      <td>Generation X</td>\n",
       "    </tr>\n",
       "    <tr>\n",
       "      <th>1</th>\n",
       "      <td>Albania</td>\n",
       "      <td>1987</td>\n",
       "      <td>male</td>\n",
       "      <td>35-54 years</td>\n",
       "      <td>16</td>\n",
       "      <td>308000</td>\n",
       "      <td>5.19</td>\n",
       "      <td>Albania1987</td>\n",
       "      <td>NaN</td>\n",
       "      <td>2,156,624,900</td>\n",
       "      <td>796</td>\n",
       "      <td>Silent</td>\n",
       "    </tr>\n",
       "    <tr>\n",
       "      <th>2</th>\n",
       "      <td>Albania</td>\n",
       "      <td>1987</td>\n",
       "      <td>female</td>\n",
       "      <td>15-24 years</td>\n",
       "      <td>14</td>\n",
       "      <td>289700</td>\n",
       "      <td>4.83</td>\n",
       "      <td>Albania1987</td>\n",
       "      <td>NaN</td>\n",
       "      <td>2,156,624,900</td>\n",
       "      <td>796</td>\n",
       "      <td>Generation X</td>\n",
       "    </tr>\n",
       "    <tr>\n",
       "      <th>3</th>\n",
       "      <td>Albania</td>\n",
       "      <td>1987</td>\n",
       "      <td>male</td>\n",
       "      <td>75+ years</td>\n",
       "      <td>1</td>\n",
       "      <td>21800</td>\n",
       "      <td>4.59</td>\n",
       "      <td>Albania1987</td>\n",
       "      <td>NaN</td>\n",
       "      <td>2,156,624,900</td>\n",
       "      <td>796</td>\n",
       "      <td>G.I. Generation</td>\n",
       "    </tr>\n",
       "    <tr>\n",
       "      <th>4</th>\n",
       "      <td>Albania</td>\n",
       "      <td>1987</td>\n",
       "      <td>male</td>\n",
       "      <td>25-34 years</td>\n",
       "      <td>9</td>\n",
       "      <td>274300</td>\n",
       "      <td>3.28</td>\n",
       "      <td>Albania1987</td>\n",
       "      <td>NaN</td>\n",
       "      <td>2,156,624,900</td>\n",
       "      <td>796</td>\n",
       "      <td>Boomers</td>\n",
       "    </tr>\n",
       "  </tbody>\n",
       "</table>\n",
       "</div>"
      ],
      "text/plain": [
       "   country  year     sex          age  suicides_no  population  \\\n",
       "0  Albania  1987    male  15-24 years           21      312900   \n",
       "1  Albania  1987    male  35-54 years           16      308000   \n",
       "2  Albania  1987  female  15-24 years           14      289700   \n",
       "3  Albania  1987    male    75+ years            1       21800   \n",
       "4  Albania  1987    male  25-34 years            9      274300   \n",
       "\n",
       "   suicides/100k_pop country-year  HDI_for_year   gdp_for_year  \\\n",
       "0               6.71  Albania1987           NaN  2,156,624,900   \n",
       "1               5.19  Albania1987           NaN  2,156,624,900   \n",
       "2               4.83  Albania1987           NaN  2,156,624,900   \n",
       "3               4.59  Albania1987           NaN  2,156,624,900   \n",
       "4               3.28  Albania1987           NaN  2,156,624,900   \n",
       "\n",
       "   gdp_per_capita       generation  \n",
       "0             796     Generation X  \n",
       "1             796           Silent  \n",
       "2             796     Generation X  \n",
       "3             796  G.I. Generation  \n",
       "4             796          Boomers  "
      ]
     },
     "execution_count": 106,
     "metadata": {
      "tags": []
     },
     "output_type": "execute_result"
    }
   ],
   "source": [
    "d.head()"
   ]
  },
  {
   "cell_type": "code",
   "execution_count": 0,
   "metadata": {
    "colab": {},
    "colab_type": "code",
    "id": "XQocuyB9z0tx",
    "outputId": "40517185-516a-4c40-9b15-346f3bfbdaa9",
    "slideshow": {
     "slide_type": "slide"
    }
   },
   "outputs": [
    {
     "data": {
      "text/html": [
       "<div>\n",
       "<style scoped>\n",
       "    .dataframe tbody tr th:only-of-type {\n",
       "        vertical-align: middle;\n",
       "    }\n",
       "\n",
       "    .dataframe tbody tr th {\n",
       "        vertical-align: top;\n",
       "    }\n",
       "\n",
       "    .dataframe thead th {\n",
       "        text-align: right;\n",
       "    }\n",
       "</style>\n",
       "<table border=\"1\" class=\"dataframe\">\n",
       "  <thead>\n",
       "    <tr style=\"text-align: right;\">\n",
       "      <th></th>\n",
       "      <th>English_short_name_lower_case</th>\n",
       "      <th>Alpha-2_code</th>\n",
       "      <th>Alpha-3_code</th>\n",
       "      <th>Numeric_code</th>\n",
       "      <th>ISO_3166-2</th>\n",
       "    </tr>\n",
       "  </thead>\n",
       "  <tbody>\n",
       "    <tr>\n",
       "      <th>0</th>\n",
       "      <td>Afghanistan</td>\n",
       "      <td>AF</td>\n",
       "      <td>AFG</td>\n",
       "      <td>4</td>\n",
       "      <td>ISO 3166-2:AF</td>\n",
       "    </tr>\n",
       "    <tr>\n",
       "      <th>1</th>\n",
       "      <td>Åland Islands</td>\n",
       "      <td>AX</td>\n",
       "      <td>ALA</td>\n",
       "      <td>248</td>\n",
       "      <td>ISO 3166-2:AX</td>\n",
       "    </tr>\n",
       "    <tr>\n",
       "      <th>2</th>\n",
       "      <td>Albania</td>\n",
       "      <td>AL</td>\n",
       "      <td>ALB</td>\n",
       "      <td>8</td>\n",
       "      <td>ISO 3166-2:AL</td>\n",
       "    </tr>\n",
       "    <tr>\n",
       "      <th>3</th>\n",
       "      <td>Algeria</td>\n",
       "      <td>DZ</td>\n",
       "      <td>DZA</td>\n",
       "      <td>12</td>\n",
       "      <td>ISO 3166-2:DZ</td>\n",
       "    </tr>\n",
       "    <tr>\n",
       "      <th>4</th>\n",
       "      <td>American Samoa</td>\n",
       "      <td>AS</td>\n",
       "      <td>ASM</td>\n",
       "      <td>16</td>\n",
       "      <td>ISO 3166-2:AS</td>\n",
       "    </tr>\n",
       "  </tbody>\n",
       "</table>\n",
       "</div>"
      ],
      "text/plain": [
       "  English_short_name_lower_case Alpha-2_code Alpha-3_code  Numeric_code  \\\n",
       "0                   Afghanistan           AF          AFG             4   \n",
       "1                 Åland Islands           AX          ALA           248   \n",
       "2                       Albania           AL          ALB             8   \n",
       "3                       Algeria           DZ          DZA            12   \n",
       "4                American Samoa           AS          ASM            16   \n",
       "\n",
       "      ISO_3166-2  \n",
       "0  ISO 3166-2:AF  \n",
       "1  ISO 3166-2:AX  \n",
       "2  ISO 3166-2:AL  \n",
       "3  ISO 3166-2:DZ  \n",
       "4  ISO 3166-2:AS  "
      ]
     },
     "execution_count": 107,
     "metadata": {
      "tags": []
     },
     "output_type": "execute_result"
    }
   ],
   "source": [
    "country_codes.head()"
   ]
  },
  {
   "cell_type": "code",
   "execution_count": 0,
   "metadata": {
    "colab": {
     "base_uri": "https://localhost:8080/",
     "height": 343
    },
    "colab_type": "code",
    "id": "B04WRSXpOPj4",
    "outputId": "c9f51565-738f-4f66-9ab0-7dc9127627a1",
    "slideshow": {
     "slide_type": "slide"
    }
   },
   "outputs": [
    {
     "data": {
      "text/html": [
       "<div>\n",
       "<style scoped>\n",
       "    .dataframe tbody tr th:only-of-type {\n",
       "        vertical-align: middle;\n",
       "    }\n",
       "\n",
       "    .dataframe tbody tr th {\n",
       "        vertical-align: top;\n",
       "    }\n",
       "\n",
       "    .dataframe thead th {\n",
       "        text-align: right;\n",
       "    }\n",
       "</style>\n",
       "<table border=\"1\" class=\"dataframe\">\n",
       "  <thead>\n",
       "    <tr style=\"text-align: right;\">\n",
       "      <th></th>\n",
       "      <th>country</th>\n",
       "      <th>year</th>\n",
       "      <th>sex</th>\n",
       "      <th>age</th>\n",
       "      <th>suicides_no</th>\n",
       "      <th>population</th>\n",
       "      <th>suicides/100k_pop</th>\n",
       "      <th>country-year</th>\n",
       "      <th>HDI_for_year</th>\n",
       "      <th>gdp_for_year</th>\n",
       "      <th>gdp_per_capita</th>\n",
       "      <th>generation</th>\n",
       "    </tr>\n",
       "  </thead>\n",
       "  <tbody>\n",
       "    <tr>\n",
       "      <th>27815</th>\n",
       "      <td>Uzbekistan</td>\n",
       "      <td>2014</td>\n",
       "      <td>female</td>\n",
       "      <td>35-54 years</td>\n",
       "      <td>107</td>\n",
       "      <td>3620833</td>\n",
       "      <td>2.96</td>\n",
       "      <td>Uzbekistan2014</td>\n",
       "      <td>0.675</td>\n",
       "      <td>63,067,077,179</td>\n",
       "      <td>2309</td>\n",
       "      <td>Generation X</td>\n",
       "    </tr>\n",
       "    <tr>\n",
       "      <th>27816</th>\n",
       "      <td>Uzbekistan</td>\n",
       "      <td>2014</td>\n",
       "      <td>female</td>\n",
       "      <td>75+ years</td>\n",
       "      <td>9</td>\n",
       "      <td>348465</td>\n",
       "      <td>2.58</td>\n",
       "      <td>Uzbekistan2014</td>\n",
       "      <td>0.675</td>\n",
       "      <td>63,067,077,179</td>\n",
       "      <td>2309</td>\n",
       "      <td>Silent</td>\n",
       "    </tr>\n",
       "    <tr>\n",
       "      <th>27817</th>\n",
       "      <td>Uzbekistan</td>\n",
       "      <td>2014</td>\n",
       "      <td>male</td>\n",
       "      <td>5-14 years</td>\n",
       "      <td>60</td>\n",
       "      <td>2762158</td>\n",
       "      <td>2.17</td>\n",
       "      <td>Uzbekistan2014</td>\n",
       "      <td>0.675</td>\n",
       "      <td>63,067,077,179</td>\n",
       "      <td>2309</td>\n",
       "      <td>Generation Z</td>\n",
       "    </tr>\n",
       "    <tr>\n",
       "      <th>27818</th>\n",
       "      <td>Uzbekistan</td>\n",
       "      <td>2014</td>\n",
       "      <td>female</td>\n",
       "      <td>5-14 years</td>\n",
       "      <td>44</td>\n",
       "      <td>2631600</td>\n",
       "      <td>1.67</td>\n",
       "      <td>Uzbekistan2014</td>\n",
       "      <td>0.675</td>\n",
       "      <td>63,067,077,179</td>\n",
       "      <td>2309</td>\n",
       "      <td>Generation Z</td>\n",
       "    </tr>\n",
       "    <tr>\n",
       "      <th>27819</th>\n",
       "      <td>Uzbekistan</td>\n",
       "      <td>2014</td>\n",
       "      <td>female</td>\n",
       "      <td>55-74 years</td>\n",
       "      <td>21</td>\n",
       "      <td>1438935</td>\n",
       "      <td>1.46</td>\n",
       "      <td>Uzbekistan2014</td>\n",
       "      <td>0.675</td>\n",
       "      <td>63,067,077,179</td>\n",
       "      <td>2309</td>\n",
       "      <td>Boomers</td>\n",
       "    </tr>\n",
       "  </tbody>\n",
       "</table>\n",
       "</div>"
      ],
      "text/plain": [
       "          country  year     sex          age  suicides_no  population  \\\n",
       "27815  Uzbekistan  2014  female  35-54 years          107     3620833   \n",
       "27816  Uzbekistan  2014  female    75+ years            9      348465   \n",
       "27817  Uzbekistan  2014    male   5-14 years           60     2762158   \n",
       "27818  Uzbekistan  2014  female   5-14 years           44     2631600   \n",
       "27819  Uzbekistan  2014  female  55-74 years           21     1438935   \n",
       "\n",
       "       suicides/100k_pop    country-year  HDI_for_year    gdp_for_year  \\\n",
       "27815               2.96  Uzbekistan2014         0.675  63,067,077,179   \n",
       "27816               2.58  Uzbekistan2014         0.675  63,067,077,179   \n",
       "27817               2.17  Uzbekistan2014         0.675  63,067,077,179   \n",
       "27818               1.67  Uzbekistan2014         0.675  63,067,077,179   \n",
       "27819               1.46  Uzbekistan2014         0.675  63,067,077,179   \n",
       "\n",
       "       gdp_per_capita    generation  \n",
       "27815            2309  Generation X  \n",
       "27816            2309        Silent  \n",
       "27817            2309  Generation Z  \n",
       "27818            2309  Generation Z  \n",
       "27819            2309       Boomers  "
      ]
     },
     "execution_count": 108,
     "metadata": {
      "tags": []
     },
     "output_type": "execute_result"
    }
   ],
   "source": [
    "d.tail()"
   ]
  },
  {
   "cell_type": "code",
   "execution_count": 0,
   "metadata": {
    "colab": {
     "base_uri": "https://localhost:8080/",
     "height": 119
    },
    "colab_type": "code",
    "id": "l3jM0jMQ90w9",
    "outputId": "7f051b56-d135-4527-c214-f4cea3bada06",
    "slideshow": {
     "slide_type": "slide"
    }
   },
   "outputs": [
    {
     "data": {
      "text/plain": [
       "{'15-24 years',\n",
       " '25-34 years',\n",
       " '35-54 years',\n",
       " '5-14 years',\n",
       " '55-74 years',\n",
       " '75+ years'}"
      ]
     },
     "execution_count": 109,
     "metadata": {
      "tags": []
     },
     "output_type": "execute_result"
    }
   ],
   "source": [
    "set(d.values[:,3])\n",
    "#set(d.values[:,3])\n",
    "#set(d.values[:,0])\n",
    "#set(d.values[:,1])"
   ]
  },
  {
   "cell_type": "markdown",
   "metadata": {
    "colab_type": "text",
    "id": "TROZqNV890xW",
    "slideshow": {
     "slide_type": "slide"
    }
   },
   "source": [
    "# <center>Eleccion de caracteristicas:</center>\n",
    "<p> X { <b>country (string) ,year ,sex ,age (string),suicides_no ,population ,HDI for year ,gdp_for_year ,gdp_per_capita ,generation (string)} </b></p>\n",
    "<p> y { <b> suicides_no </b> } </p>\n",
    "<p> <b>Posibles complicaciones</b>: <b>country</b> debe pasarse a valores de cordenadas o una representacion numerica, <b>sex</b> podria tomar valores de 0 y 1, ¿como deberia manejarse <b>generacion</b>?</p>"
   ]
  },
  {
   "cell_type": "markdown",
   "metadata": {
    "colab_type": "text",
    "id": "tD1umANC90xY",
    "slideshow": {
     "slide_type": "slide"
    }
   },
   "source": [
    "# <center>Countries\n",
    "Albania',\n",
    " 'Antigua and Barbuda',\n",
    " 'Argentina',\n",
    " 'Armenia',\n",
    " 'Aruba',\n",
    " 'Australia',\n",
    " 'Austria',\n",
    " 'Azerbaijan',\n",
    " 'Bahamas',\n",
    " 'Bahrain',\n",
    " 'Barbados',\n",
    " 'Belarus',\n",
    " 'Belgium',\n",
    " 'Belize',\n",
    " 'Bosnia and Herzegovina',\n",
    " 'Brazil',\n",
    " 'Bulgaria',\n",
    " 'Cabo Verde',\n",
    " 'Canada',\n",
    " 'Chile',\n",
    " 'Colombia',\n",
    " 'Costa Rica',\n",
    " 'Croatia',\n",
    " 'Cuba',\n",
    " 'Cyprus',\n",
    " 'Czech Republic',\n",
    " 'Denmark',\n",
    " 'Dominica',\n",
    " 'Ecuador',\n",
    " 'El Salvador',\n",
    " 'Estonia',\n",
    " 'Fiji',\n",
    " 'Finland',\n",
    " 'France',\n",
    " 'Georgia',\n",
    " 'Germany',\n",
    " 'Greece',\n",
    " 'Grenada',\n",
    " 'Guatemala',\n",
    " 'Guyana',\n",
    " 'Hungary',\n",
    " 'Iceland',\n",
    " 'Ireland',\n",
    " 'Israel',\n",
    " 'Italy',\n",
    " 'Jamaica',\n",
    " 'Japan',\n",
    " 'Kazakhstan',\n",
    " 'Kiribati',\n",
    " 'Kuwait',\n",
    " 'Kyrgyzstan',\n",
    " 'Latvia',\n",
    " 'Lithuania',\n",
    " 'Luxembourg',\n",
    " 'Macau',\n",
    " 'Maldives',\n",
    " 'Malta',\n",
    " 'Mauritius',\n",
    " 'Mexico',\n",
    " 'Mongolia',\n",
    " 'Montenegro',\n",
    " 'Netherlands',\n",
    " 'New Zealand',\n",
    " 'Nicaragua',\n",
    " 'Norway',\n",
    " 'Oman',\n",
    " 'Panama',\n",
    " 'Paraguay',\n",
    " 'Philippines',\n",
    " 'Poland',\n",
    " 'Portugal',\n",
    " 'Puerto Rico',\n",
    " 'Qatar',\n",
    " 'Republic of Korea',\n",
    " 'Romania',\n",
    " 'Russian Federation',\n",
    " 'Saint Kitts and Nevis',\n",
    " 'Saint Lucia',\n",
    " 'Saint Vincent and Grenadines',\n",
    " 'San Marino',\n",
    " 'Serbia',\n",
    " 'Seychelles',\n",
    " 'Singapore',\n",
    " 'Slovakia',\n",
    " 'Slovenia',\n",
    " 'South Africa',\n",
    " 'Spain',\n",
    " 'Sri Lanka',\n",
    " 'Suriname',\n",
    " 'Sweden',\n",
    " 'Switzerland',\n",
    " 'Thailand',\n",
    " 'Trinidad and Tobago',\n",
    " 'Turkey',\n",
    " 'Turkmenistan',\n",
    " 'Ukraine',\n",
    " 'United Arab Emirates',\n",
    " 'United Kingdom',\n",
    " 'United States',\n",
    " 'Uruguay',\n",
    " 'Uzbekistan"
   ]
  },
  {
   "cell_type": "code",
   "execution_count": 0,
   "metadata": {
    "colab": {
     "base_uri": "https://localhost:8080/",
     "height": 204
    },
    "colab_type": "code",
    "id": "s_YBnaKO90xe",
    "outputId": "bf64e757-6a83-47bd-ad64-eee17e8d8134",
    "slideshow": {
     "slide_type": "slide"
    }
   },
   "outputs": [
    {
     "data": {
      "text/html": [
       "<div>\n",
       "<style scoped>\n",
       "    .dataframe tbody tr th:only-of-type {\n",
       "        vertical-align: middle;\n",
       "    }\n",
       "\n",
       "    .dataframe tbody tr th {\n",
       "        vertical-align: top;\n",
       "    }\n",
       "\n",
       "    .dataframe thead th {\n",
       "        text-align: right;\n",
       "    }\n",
       "</style>\n",
       "<table border=\"1\" class=\"dataframe\">\n",
       "  <thead>\n",
       "    <tr style=\"text-align: right;\">\n",
       "      <th></th>\n",
       "      <th>English_short_name_lower_case</th>\n",
       "      <th>Alpha-2_code</th>\n",
       "      <th>Alpha-3_code</th>\n",
       "      <th>Numeric_code</th>\n",
       "      <th>ISO_3166-2</th>\n",
       "    </tr>\n",
       "  </thead>\n",
       "  <tbody>\n",
       "    <tr>\n",
       "      <th>0</th>\n",
       "      <td>Afghanistan</td>\n",
       "      <td>AF</td>\n",
       "      <td>AFG</td>\n",
       "      <td>4</td>\n",
       "      <td>ISO 3166-2:AF</td>\n",
       "    </tr>\n",
       "    <tr>\n",
       "      <th>1</th>\n",
       "      <td>Åland Islands</td>\n",
       "      <td>AX</td>\n",
       "      <td>ALA</td>\n",
       "      <td>248</td>\n",
       "      <td>ISO 3166-2:AX</td>\n",
       "    </tr>\n",
       "    <tr>\n",
       "      <th>2</th>\n",
       "      <td>Albania</td>\n",
       "      <td>AL</td>\n",
       "      <td>ALB</td>\n",
       "      <td>8</td>\n",
       "      <td>ISO 3166-2:AL</td>\n",
       "    </tr>\n",
       "    <tr>\n",
       "      <th>3</th>\n",
       "      <td>Algeria</td>\n",
       "      <td>DZ</td>\n",
       "      <td>DZA</td>\n",
       "      <td>12</td>\n",
       "      <td>ISO 3166-2:DZ</td>\n",
       "    </tr>\n",
       "    <tr>\n",
       "      <th>4</th>\n",
       "      <td>American Samoa</td>\n",
       "      <td>AS</td>\n",
       "      <td>ASM</td>\n",
       "      <td>16</td>\n",
       "      <td>ISO 3166-2:AS</td>\n",
       "    </tr>\n",
       "  </tbody>\n",
       "</table>\n",
       "</div>"
      ],
      "text/plain": [
       "  English_short_name_lower_case Alpha-2_code Alpha-3_code  Numeric_code  \\\n",
       "0                   Afghanistan           AF          AFG             4   \n",
       "1                 Åland Islands           AX          ALA           248   \n",
       "2                       Albania           AL          ALB             8   \n",
       "3                       Algeria           DZ          DZA            12   \n",
       "4                American Samoa           AS          ASM            16   \n",
       "\n",
       "      ISO_3166-2  \n",
       "0  ISO 3166-2:AF  \n",
       "1  ISO 3166-2:AX  \n",
       "2  ISO 3166-2:AL  \n",
       "3  ISO 3166-2:DZ  \n",
       "4  ISO 3166-2:AS  "
      ]
     },
     "execution_count": 110,
     "metadata": {
      "tags": []
     },
     "output_type": "execute_result"
    }
   ],
   "source": [
    "country_codes.head()"
   ]
  },
  {
   "cell_type": "markdown",
   "metadata": {
    "colab_type": "text",
    "id": "HyXOnqyW90xk",
    "slideshow": {
     "slide_type": "slide"
    }
   },
   "source": [
    "'Cabo Verde',\n",
    " 'Macau',\n",
    " 'Republic of Korea',\n",
    " 'Saint Vincent and Grenadines'}"
   ]
  },
  {
   "cell_type": "code",
   "execution_count": 0,
   "metadata": {
    "colab": {},
    "colab_type": "code",
    "id": "GGoY6bSz90xl",
    "slideshow": {
     "slide_type": "slide"
    }
   },
   "outputs": [],
   "source": [
    "d.country.values[d.country.values == \"Cabo Verde\"] = \"Cape Verde\"\n",
    "d.country.values[d.country.values == \"Macau\"] = \"Macao\"\n",
    "d.country.values[d.country.values == \"Republic of Korea\"] = \"Korea, Republic of\"\n",
    "d.country.values[d.country.values == \"Saint Vincent and Grenadines\"] = \"Saint Vincent and the Grenadines\""
   ]
  },
  {
   "cell_type": "code",
   "execution_count": 0,
   "metadata": {
    "colab": {},
    "colab_type": "code",
    "id": "5z_ZQVqw90xs",
    "slideshow": {
     "slide_type": "slide"
    }
   },
   "outputs": [],
   "source": [
    "for i in range(d.values[:,0].shape[0]):\n",
    "    new = country_codes.Numeric_code.values[country_codes.English_short_name_lower_case.values == d.country.values[i]]\n",
    "    if (new.shape[0] != 0):\n",
    "        d.country.values[i] = new[0]"
   ]
  },
  {
   "cell_type": "code",
   "execution_count": 0,
   "metadata": {
    "colab": {},
    "colab_type": "code",
    "id": "ntbHKxNO90xy",
    "outputId": "8ec4dcfb-e753-4268-ff09-88a9bf573ee0",
    "slideshow": {
     "slide_type": "slide"
    }
   },
   "outputs": [
    {
     "data": {
      "text/plain": [
       "{8,\n",
       " 28,\n",
       " 31,\n",
       " 32,\n",
       " 36,\n",
       " 40,\n",
       " 44,\n",
       " 48,\n",
       " 51,\n",
       " 52,\n",
       " 56,\n",
       " 70,\n",
       " 76,\n",
       " 84,\n",
       " 100,\n",
       " 112,\n",
       " 124,\n",
       " 132,\n",
       " 144,\n",
       " 152,\n",
       " 170,\n",
       " 188,\n",
       " 191,\n",
       " 192,\n",
       " 196,\n",
       " 203,\n",
       " 208,\n",
       " 212,\n",
       " 218,\n",
       " 222,\n",
       " 233,\n",
       " 242,\n",
       " 246,\n",
       " 250,\n",
       " 268,\n",
       " 276,\n",
       " 296,\n",
       " 300,\n",
       " 308,\n",
       " 320,\n",
       " 328,\n",
       " 348,\n",
       " 352,\n",
       " 372,\n",
       " 376,\n",
       " 380,\n",
       " 388,\n",
       " 392,\n",
       " 398,\n",
       " 410,\n",
       " 414,\n",
       " 417,\n",
       " 428,\n",
       " 440,\n",
       " 442,\n",
       " 446,\n",
       " 462,\n",
       " 470,\n",
       " 480,\n",
       " 484,\n",
       " 496,\n",
       " 499,\n",
       " 512,\n",
       " 528,\n",
       " 533,\n",
       " 554,\n",
       " 558,\n",
       " 578,\n",
       " 591,\n",
       " 600,\n",
       " 608,\n",
       " 616,\n",
       " 620,\n",
       " 630,\n",
       " 634,\n",
       " 642,\n",
       " 643,\n",
       " 659,\n",
       " 662,\n",
       " 670,\n",
       " 674,\n",
       " 688,\n",
       " 690,\n",
       " 702,\n",
       " 703,\n",
       " 705,\n",
       " 710,\n",
       " 724,\n",
       " 740,\n",
       " 752,\n",
       " 756,\n",
       " 764,\n",
       " 780,\n",
       " 784,\n",
       " 792,\n",
       " 795,\n",
       " 804,\n",
       " 826,\n",
       " 840,\n",
       " 858,\n",
       " 860}"
      ]
     },
     "execution_count": 84,
     "metadata": {
      "tags": []
     },
     "output_type": "execute_result"
    }
   ],
   "source": [
    "set(d.values[:,0])"
   ]
  },
  {
   "cell_type": "markdown",
   "metadata": {
    "colab_type": "text",
    "id": "eAC4Ydb690x4",
    "slideshow": {
     "slide_type": "slide"
    }
   },
   "source": [
    "# <center>Age\n",
    "los datos de las edades se encuentran divididos en 6 grupos y estos van a ser modificados dandoles un unico valor numerico\n",
    "<center><br>\n",
    "'5-14 years' , '15-24 years',<br>\n",
    "'25-34 years' , '35-54 years',<br>\n",
    "'55-74 years' , '75+ years'<br></center>\n",
    "\n"
   ]
  },
  {
   "cell_type": "code",
   "execution_count": 0,
   "metadata": {
    "colab": {},
    "colab_type": "code",
    "id": "y_wJz5dY90x7",
    "slideshow": {
     "slide_type": "slide"
    }
   },
   "outputs": [],
   "source": [
    "d.age.values[d.age.values == \"5-14 years\"] = 0\n",
    "d.age.values[d.age.values == \"15-24 years\"] = 1\n",
    "d.age.values[d.age.values == \"25-34 years\"] = 2\n",
    "d.age.values[d.age.values == \"35-54 years\"] = 3\n",
    "d.age.values[d.age.values == \"55-74 years\"] = 4\n",
    "d.age.values[d.age.values == \"75+ years\"] = 5"
   ]
  },
  {
   "cell_type": "code",
   "execution_count": 0,
   "metadata": {
    "colab": {
     "base_uri": "https://localhost:8080/",
     "height": 34
    },
    "colab_type": "code",
    "id": "zSKkX9Jm90yA",
    "outputId": "8fc56130-a3f8-4167-ce51-e2e5cc55077b",
    "slideshow": {
     "slide_type": "slide"
    }
   },
   "outputs": [
    {
     "data": {
      "text/plain": [
       "{0, 1, 2, 3, 4, 5}"
      ]
     },
     "execution_count": 114,
     "metadata": {
      "tags": []
     },
     "output_type": "execute_result"
    }
   ],
   "source": [
    "set(d.values[:,3])"
   ]
  },
  {
   "cell_type": "markdown",
   "metadata": {
    "colab_type": "text",
    "id": "ewaF-1Fu90yH",
    "slideshow": {
     "slide_type": "slide"
    }
   },
   "source": [
    "## <center> Generation</center>\n",
    "Se encuentran en 6 grupos de generaciones\n",
    "\n",
    "'Boomers',\n",
    " 'G.I. Generation',\n",
    " 'Generation X',\n",
    " 'Generation Z',\n",
    " 'Millenials',\n",
    " 'Silent'"
   ]
  },
  {
   "cell_type": "code",
   "execution_count": 0,
   "metadata": {
    "colab": {},
    "colab_type": "code",
    "id": "bg6mC8Rk90yI",
    "slideshow": {
     "slide_type": "slide"
    }
   },
   "outputs": [],
   "source": [
    "d.generation.values[d.generation.values == \"G.I. Generation\"] = 0 #\n",
    "d.generation.values[d.generation.values == \"Silent\"] = 1 #\n",
    "d.generation.values[d.generation.values == \"Boomers\"] = 2 #\n",
    "d.generation.values[d.generation.values == \"Generation X\"] = 3 #\n",
    "d.generation.values[d.generation.values == \"Millenials\"] = 4 #\n",
    "d.generation.values[d.generation.values == \"Generation Z\"] = 5 #"
   ]
  },
  {
   "cell_type": "code",
   "execution_count": 0,
   "metadata": {
    "colab": {
     "base_uri": "https://localhost:8080/",
     "height": 34
    },
    "colab_type": "code",
    "id": "K6rSl9Gb90yP",
    "outputId": "449978a8-1dcf-4609-d019-362a053bed77",
    "slideshow": {
     "slide_type": "slide"
    }
   },
   "outputs": [
    {
     "data": {
      "text/plain": [
       "{0, 1, 2, 3, 4, 5}"
      ]
     },
     "execution_count": 116,
     "metadata": {
      "tags": []
     },
     "output_type": "execute_result"
    }
   ],
   "source": [
    "set(d.values[:,11])"
   ]
  },
  {
   "cell_type": "markdown",
   "metadata": {
    "colab_type": "text",
    "id": "q719sWFO90yY",
    "slideshow": {
     "slide_type": "slide"
    }
   },
   "source": [
    "# <center>Sex</center>\n",
    "Encontramos 2 sexos en el dataset los cuales se van a codificar con un numero para identificarlos: 0 para los hombre y el 1 para las mujeres\n",
    "\n",
    "'male', 'female'"
   ]
  },
  {
   "cell_type": "code",
   "execution_count": 0,
   "metadata": {
    "colab": {},
    "colab_type": "code",
    "id": "6wkcZHWU90yf",
    "slideshow": {
     "slide_type": "slide"
    }
   },
   "outputs": [],
   "source": [
    "d.sex.values[d.sex.values == \"male\"] = 0\n",
    "d.sex.values[d.sex.values == \"female\"] = 1"
   ]
  },
  {
   "cell_type": "markdown",
   "metadata": {
    "colab_type": "text",
    "id": "BAYR-Wqs90yl",
    "slideshow": {
     "slide_type": "slide"
    }
   },
   "source": [
    "# <center> Gdp for year ($)\n",
    "\n",
    "\t63,067,077,179 = 63.07 ( se entiende como GDP ( Billions of US $)"
   ]
  },
  {
   "cell_type": "code",
   "execution_count": 0,
   "metadata": {
    "colab": {},
    "colab_type": "code",
    "id": "hGIcZXKZ90ym",
    "outputId": "6964f5cb-615c-4ad4-853c-25a3b2161ec8",
    "slideshow": {
     "slide_type": "slide"
    }
   },
   "outputs": [
    {
     "name": "stdout",
     "output_type": "stream",
     "text": [
      "0.047\n",
      "18120.714\n"
     ]
    }
   ],
   "source": [
    "for i in range(d.values[:,0].shape[0]):\n",
    "    res = d.gdp_for_year.values[i].split(',')\n",
    "    d.gdp_for_year.values[i] = round(float(''.join(res))/1000000000,3)\n",
    "\n",
    "print(min(d.gdp_for_year.values))\n",
    "print(max(d.gdp_for_year.values))"
   ]
  },
  {
   "cell_type": "markdown",
   "metadata": {
    "colab_type": "text",
    "id": "VBxXErz090yv",
    "slideshow": {
     "slide_type": "slide"
    }
   },
   "source": [
    "# <center> NaN\n",
    "\n",
    "La columna que mas datos presenta en NaN es **HDI_for_year** por tanto se propone reemplazar los valores NaN de cada pais con el primedio para no alterar la tendencia de cada pais."
   ]
  },
  {
   "cell_type": "code",
   "execution_count": 0,
   "metadata": {
    "colab": {
     "base_uri": "https://localhost:8080/",
     "height": 34
    },
    "colab_type": "code",
    "id": "_m-2zLzddG9k",
    "outputId": "8da598d8-cd80-4f78-8b59-4849f962d5e3",
    "slideshow": {
     "slide_type": "slide"
    }
   },
   "outputs": [
    {
     "data": {
      "text/plain": [
       "[132, 212, 296, 410, 446, 496, 533, 630, 643, 659, 674]"
      ]
     },
     "execution_count": 119,
     "metadata": {
      "tags": []
     },
     "output_type": "execute_result"
    }
   ],
   "source": [
    "NaN = []\n",
    "for i in np.unique(d.country):\n",
    "  mean = np.mean(d.HDI_for_year[d.country == i])\n",
    "  if (np.isnan(mean)):\n",
    "    NaN.append(i)\n",
    "NaN"
   ]
  },
  {
   "cell_type": "markdown",
   "metadata": {
    "colab_type": "text",
    "id": "fOrmVxVrfE0F",
    "slideshow": {
     "slide_type": "slide"
    }
   },
   "source": [
    "<h1><center>**Conclusion:** </center></h1>\n",
    "Existian paises a los cuales su columna de **HDI_for_year** era totalmente nula por tanto se procede a descartarlos del dataset dado que no hacen ningun aporte."
   ]
  },
  {
   "cell_type": "code",
   "execution_count": 0,
   "metadata": {
    "colab": {
     "base_uri": "https://localhost:8080/",
     "height": 34
    },
    "colab_type": "code",
    "id": "CcPh3ZG3epCL",
    "outputId": "8a8df951-79cd-4c01-e114-72221ff5633f",
    "slideshow": {
     "slide_type": "slide"
    }
   },
   "outputs": [
    {
     "data": {
      "text/plain": [
       "RangeIndex(start=0, stop=26334, step=1)"
      ]
     },
     "execution_count": 120,
     "metadata": {
      "tags": []
     },
     "output_type": "execute_result"
    }
   ],
   "source": [
    "for i in NaN:\n",
    "    d.drop(d.index[d.country == i].values, inplace=True)\n",
    "\n",
    "d.reset_index(inplace=True)\n",
    "d.drop(columns = \"index\", inplace=True)\n",
    "d.index"
   ]
  },
  {
   "cell_type": "markdown",
   "metadata": {
    "colab_type": "text",
    "id": "YD2z9mtGfS9V",
    "slideshow": {
     "slide_type": "slide"
    }
   },
   "source": [
    "Los paises que contienen registros sobre su **HDI_for_year** se procede a remplazar valores NaN con el promedio de los existentes."
   ]
  },
  {
   "cell_type": "code",
   "execution_count": 0,
   "metadata": {
    "colab": {
     "base_uri": "https://localhost:8080/",
     "height": 122
    },
    "colab_type": "code",
    "id": "6mcagv0Id3Am",
    "outputId": "461deb83-40fe-4e97-809e-ae642463fd16",
    "slideshow": {
     "slide_type": "slide"
    }
   },
   "outputs": [
    {
     "name": "stderr",
     "output_type": "stream",
     "text": [
      "/opt/miniconda/lib/python2.7/site-packages/ipykernel_launcher.py:2: SettingWithCopyWarning: \n",
      "A value is trying to be set on a copy of a slice from a DataFrame\n",
      "\n",
      "See the caveats in the documentation: http://pandas.pydata.org/pandas-docs/stable/indexing.html#indexing-view-versus-copy\n",
      "  \n"
     ]
    }
   ],
   "source": [
    "for i in np.unique(d.country):\n",
    "    d[\"HDI_for_year\"][d.country==i]=d[\"HDI_for_year\"][d.country==i].fillna(value=np.mean(d[\"HDI_for_year\"][d.country==i]))"
   ]
  },
  {
   "cell_type": "markdown",
   "metadata": {
    "colab_type": "text",
    "id": "wd7WCkMf9GR3",
    "slideshow": {
     "slide_type": "slide"
    }
   },
   "source": [
    "**NOTA:** Posiblemente al calcular el valor de la media se esta almacenando numeros de tipo flotante demaciado grandes por lo tanto corregir que solo guarde maximo 3 cifras decimales. Ejemplo: 0.7132000000000001"
   ]
  },
  {
   "cell_type": "code",
   "execution_count": 0,
   "metadata": {
    "colab": {},
    "colab_type": "code",
    "id": "l3LFYPFG90yw",
    "slideshow": {
     "slide_type": "slide"
    }
   },
   "outputs": [],
   "source": [
    "d.HDI_for_year = d.HDI_for_year.round(3)"
   ]
  },
  {
   "cell_type": "markdown",
   "metadata": {
    "colab_type": "text",
    "id": "SEseVwRQb1kQ",
    "slideshow": {
     "slide_type": "slide"
    }
   },
   "source": [
    "<h1><center>**Prueba de nulidad** "
   ]
  },
  {
   "cell_type": "code",
   "execution_count": 0,
   "metadata": {
    "colab": {
     "base_uri": "https://localhost:8080/",
     "height": 238
    },
    "colab_type": "code",
    "id": "6o1Jynn790y0",
    "outputId": "b9605c2a-2291-40f0-92e5-5e981812a590",
    "slideshow": {
     "slide_type": "slide"
    }
   },
   "outputs": [
    {
     "data": {
      "text/plain": [
       "country              1\n",
       "year                 1\n",
       "sex                  1\n",
       "age                  1\n",
       "suicides_no          1\n",
       "population           1\n",
       "suicides/100k_pop    1\n",
       "country-year         1\n",
       "HDI_for_year         1\n",
       "gdp_for_year         1\n",
       "gdp_per_capita       1\n",
       "generation           1\n",
       "dtype: int64"
      ]
     },
     "execution_count": 124,
     "metadata": {
      "tags": []
     },
     "output_type": "execute_result"
    }
   ],
   "source": [
    "np.prod(pd.notnull(d))"
   ]
  },
  {
   "cell_type": "markdown",
   "metadata": {
    "colab_type": "text",
    "id": "25-zZDpE8TvF",
    "slideshow": {
     "slide_type": "slide"
    }
   },
   "source": [
    "# <center> Zeros\n",
    "\n",
    "Aquellos paises con numeros de suicidios **suidices_no** en 0 y años antes y despues no muy lejanos presentan valores con cierta tendencia es muy probable que ese registro no fuera tomado y/o se haya perdido por lo tanto lo mejor seria resplazarlos con la media."
   ]
  },
  {
   "cell_type": "code",
   "execution_count": 0,
   "metadata": {
    "colab": {},
    "colab_type": "code",
    "id": "_Fq9DuKjAXvJ",
    "slideshow": {
     "slide_type": "slide"
    }
   },
   "outputs": [],
   "source": [
    "def zeros(condicion, umbral):\n",
    "  # Da informacion sobre que paises poseen una mayor cantidad de registros con numeros de suicidios en 0\n",
    "\n",
    "  #umbral: porcentaje [0-100]\n",
    "  #country_N: nombres de paises\n",
    "  #country_No: codigo de paises\n",
    "  #N_zeros: cantitad de registros que NO tienen 0\n",
    "  #N_total: total de registros\n",
    "  #NOTA: La columna \"country\" ya debe haber sido convertida a codigos\n",
    "\n",
    "    cod_pais = []\n",
    "    nom_pais = []\n",
    "    no_zeros = []\n",
    "    no_registros = []\n",
    "    porcentaje = []\n",
    "\n",
    "    for i in country_codes.Numeric_code.values:\n",
    "        country_N = country_codes.English_short_name_lower_case[country_codes.Numeric_code == i].values[0]\n",
    "        country_No = country_codes.Numeric_code[country_codes.Numeric_code == i].values[0]\n",
    "        N_zeros = np.count_nonzero(d.suicides_no[d.country == i])\n",
    "        N_total = len(d.suicides_no[d.country == i])\n",
    "        if (N_total != 0):\n",
    "            P_final = 100 - float(N_zeros)/N_total*100\n",
    "            if (P_final > umbral and condicion == \"mayor\"):  #Umbral de filtrado\n",
    "                cod_pais.append(country_No)\n",
    "                nom_pais.append(country_N)\n",
    "                no_zeros.append(N_total - N_zeros)\n",
    "                no_registros.append(N_total)\n",
    "                porcentaje.append(P_final)\n",
    "            if (P_final < umbral and condicion == \"menor\"): #Umbral de filtrado\n",
    "                cod_pais.append(country_No)\n",
    "                nom_pais.append(country_N)\n",
    "                no_zeros.append(N_total - N_zeros)\n",
    "                no_registros.append(N_total)\n",
    "                porcentaje.append(P_final)\n",
    "\n",
    "    zeros = {\"cod_pais\": cod_pais,\n",
    "           \"nom_pais\": nom_pais,\n",
    "           \"no_zeros\": no_zeros,\n",
    "           \"no_registros\": no_registros,\n",
    "           \"porcentaje\": porcentaje}\n",
    "    zeros_df = pd.DataFrame(data=zeros, columns = [\"cod_pais\",\"nom_pais\",\"no_zeros\",\"no_registros\",\"porcentaje\"])\n",
    "    return zeros_df"
   ]
  },
  {
   "cell_type": "code",
   "execution_count": 0,
   "metadata": {
    "colab": {
     "base_uri": "https://localhost:8080/",
     "height": 111
    },
    "colab_type": "code",
    "id": "p2bh3u1Nhbvq",
    "outputId": "ae8bacdc-6c64-4d0f-b5d2-e7092ef35a4a",
    "slideshow": {
     "slide_type": "slide"
    }
   },
   "outputs": [
    {
     "data": {
      "text/html": [
       "<div>\n",
       "<style scoped>\n",
       "    .dataframe tbody tr th:only-of-type {\n",
       "        vertical-align: middle;\n",
       "    }\n",
       "\n",
       "    .dataframe tbody tr th {\n",
       "        vertical-align: top;\n",
       "    }\n",
       "\n",
       "    .dataframe thead th {\n",
       "        text-align: right;\n",
       "    }\n",
       "</style>\n",
       "<table border=\"1\" class=\"dataframe\">\n",
       "  <thead>\n",
       "    <tr style=\"text-align: right;\">\n",
       "      <th></th>\n",
       "      <th>cod_pais</th>\n",
       "      <th>nom_pais</th>\n",
       "      <th>no_zeros</th>\n",
       "      <th>no_registros</th>\n",
       "      <th>porcentaje</th>\n",
       "    </tr>\n",
       "  </thead>\n",
       "  <tbody>\n",
       "  </tbody>\n",
       "</table>\n",
       "</div>"
      ],
      "text/plain": [
       "Empty DataFrame\n",
       "Columns: [cod_pais, nom_pais, no_zeros, no_registros, porcentaje]\n",
       "Index: []"
      ]
     },
     "execution_count": 127,
     "metadata": {
      "tags": []
     },
     "output_type": "execute_result"
    }
   ],
   "source": [
    "zeros(\"mayor\", 99)"
   ]
  },
  {
   "cell_type": "markdown",
   "metadata": {
    "colab_type": "text",
    "id": "n5g-EgksNp1h",
    "slideshow": {
     "slide_type": "slide"
    }
   },
   "source": [
    "**Conclusion 1:** Tomando como referencia la cantidad de zeros presentes en la columna \"suicides_no\" con respecto a la cantidad de registros presentes y con un humbral del 100% se puede descartar los siguientes paises dado que sus datos no aparentar ser correctos o en su totalidad son faltantes:\n",
    "- Dominica\n",
    "- Saint Kitts and Nevis"
   ]
  },
  {
   "cell_type": "code",
   "execution_count": 0,
   "metadata": {
    "colab": {},
    "colab_type": "code",
    "id": "w78AeMYIz0wR",
    "outputId": "ea572c28-8077-415a-caaf-d58caf3f7731",
    "slideshow": {
     "slide_type": "slide"
    }
   },
   "outputs": [
    {
     "data": {
      "text/html": [
       "<div>\n",
       "<style scoped>\n",
       "    .dataframe tbody tr th:only-of-type {\n",
       "        vertical-align: middle;\n",
       "    }\n",
       "\n",
       "    .dataframe tbody tr th {\n",
       "        vertical-align: top;\n",
       "    }\n",
       "\n",
       "    .dataframe thead th {\n",
       "        text-align: right;\n",
       "    }\n",
       "</style>\n",
       "<table border=\"1\" class=\"dataframe\">\n",
       "  <thead>\n",
       "    <tr style=\"text-align: right;\">\n",
       "      <th></th>\n",
       "      <th>country</th>\n",
       "      <th>year</th>\n",
       "      <th>sex</th>\n",
       "      <th>age</th>\n",
       "      <th>suicides_no</th>\n",
       "      <th>population</th>\n",
       "      <th>suicides/100k_pop</th>\n",
       "      <th>country-year</th>\n",
       "      <th>HDI_for_year</th>\n",
       "      <th>gdp_for_year</th>\n",
       "      <th>gdp_per_capita</th>\n",
       "      <th>generation</th>\n",
       "    </tr>\n",
       "  </thead>\n",
       "  <tbody>\n",
       "    <tr>\n",
       "      <th>0</th>\n",
       "      <td>8</td>\n",
       "      <td>1987</td>\n",
       "      <td>0</td>\n",
       "      <td>1</td>\n",
       "      <td>21</td>\n",
       "      <td>312900</td>\n",
       "      <td>6.71</td>\n",
       "      <td>Albania1987</td>\n",
       "      <td>0.673</td>\n",
       "      <td>2.157</td>\n",
       "      <td>796</td>\n",
       "      <td>3</td>\n",
       "    </tr>\n",
       "    <tr>\n",
       "      <th>1</th>\n",
       "      <td>8</td>\n",
       "      <td>1987</td>\n",
       "      <td>0</td>\n",
       "      <td>3</td>\n",
       "      <td>16</td>\n",
       "      <td>308000</td>\n",
       "      <td>5.19</td>\n",
       "      <td>Albania1987</td>\n",
       "      <td>0.673</td>\n",
       "      <td>2.157</td>\n",
       "      <td>796</td>\n",
       "      <td>1</td>\n",
       "    </tr>\n",
       "    <tr>\n",
       "      <th>2</th>\n",
       "      <td>8</td>\n",
       "      <td>1987</td>\n",
       "      <td>1</td>\n",
       "      <td>1</td>\n",
       "      <td>14</td>\n",
       "      <td>289700</td>\n",
       "      <td>4.83</td>\n",
       "      <td>Albania1987</td>\n",
       "      <td>0.673</td>\n",
       "      <td>2.157</td>\n",
       "      <td>796</td>\n",
       "      <td>3</td>\n",
       "    </tr>\n",
       "    <tr>\n",
       "      <th>3</th>\n",
       "      <td>8</td>\n",
       "      <td>1987</td>\n",
       "      <td>0</td>\n",
       "      <td>5</td>\n",
       "      <td>1</td>\n",
       "      <td>21800</td>\n",
       "      <td>4.59</td>\n",
       "      <td>Albania1987</td>\n",
       "      <td>0.673</td>\n",
       "      <td>2.157</td>\n",
       "      <td>796</td>\n",
       "      <td>0</td>\n",
       "    </tr>\n",
       "    <tr>\n",
       "      <th>4</th>\n",
       "      <td>8</td>\n",
       "      <td>1987</td>\n",
       "      <td>0</td>\n",
       "      <td>2</td>\n",
       "      <td>9</td>\n",
       "      <td>274300</td>\n",
       "      <td>3.28</td>\n",
       "      <td>Albania1987</td>\n",
       "      <td>0.673</td>\n",
       "      <td>2.157</td>\n",
       "      <td>796</td>\n",
       "      <td>2</td>\n",
       "    </tr>\n",
       "  </tbody>\n",
       "</table>\n",
       "</div>"
      ],
      "text/plain": [
       "  country  year sex age  suicides_no  population  suicides/100k_pop  \\\n",
       "0       8  1987   0   1           21      312900               6.71   \n",
       "1       8  1987   0   3           16      308000               5.19   \n",
       "2       8  1987   1   1           14      289700               4.83   \n",
       "3       8  1987   0   5            1       21800               4.59   \n",
       "4       8  1987   0   2            9      274300               3.28   \n",
       "\n",
       "  country-year  HDI_for_year gdp_for_year  gdp_per_capita generation  \n",
       "0  Albania1987         0.673        2.157             796          3  \n",
       "1  Albania1987         0.673        2.157             796          1  \n",
       "2  Albania1987         0.673        2.157             796          3  \n",
       "3  Albania1987         0.673        2.157             796          0  \n",
       "4  Albania1987         0.673        2.157             796          2  "
      ]
     },
     "execution_count": 128,
     "metadata": {
      "tags": []
     },
     "output_type": "execute_result"
    }
   ],
   "source": [
    "d.head()"
   ]
  },
  {
   "cell_type": "code",
   "execution_count": 0,
   "metadata": {
    "colab": {
     "base_uri": "https://localhost:8080/",
     "height": 34
    },
    "colab_type": "code",
    "id": "AxNDnCzvYYaG",
    "outputId": "e2c441c3-83bc-46d0-fac7-86295229f6ed",
    "slideshow": {
     "slide_type": "slide"
    }
   },
   "outputs": [
    {
     "data": {
      "text/plain": [
       "RangeIndex(start=0, stop=26334, step=1)"
      ]
     },
     "execution_count": 129,
     "metadata": {
      "tags": []
     },
     "output_type": "execute_result"
    }
   ],
   "source": [
    "d.drop(d.index[d.country == 212].values, inplace=True)\n",
    "d.drop(d.index[d.country == 659].values, inplace=True)\n",
    "\n",
    "d.reset_index(inplace=True)\n",
    "d.drop(columns = \"index\", inplace=True)\n",
    "d.index"
   ]
  },
  {
   "cell_type": "code",
   "execution_count": 0,
   "metadata": {
    "colab": {
     "base_uri": "https://localhost:8080/",
     "height": 241
    },
    "colab_type": "code",
    "id": "pSWn2wDY5P97",
    "outputId": "3de86f82-8102-4a7a-fde6-69084a4926dd",
    "slideshow": {
     "slide_type": "slide"
    }
   },
   "outputs": [
    {
     "data": {
      "text/html": [
       "<div>\n",
       "<style scoped>\n",
       "    .dataframe tbody tr th:only-of-type {\n",
       "        vertical-align: middle;\n",
       "    }\n",
       "\n",
       "    .dataframe tbody tr th {\n",
       "        vertical-align: top;\n",
       "    }\n",
       "\n",
       "    .dataframe thead th {\n",
       "        text-align: right;\n",
       "    }\n",
       "</style>\n",
       "<table border=\"1\" class=\"dataframe\">\n",
       "  <thead>\n",
       "    <tr style=\"text-align: right;\">\n",
       "      <th></th>\n",
       "      <th>country</th>\n",
       "      <th>year</th>\n",
       "      <th>sex</th>\n",
       "      <th>age</th>\n",
       "      <th>suicides_no</th>\n",
       "      <th>population</th>\n",
       "      <th>suicides/100k_pop</th>\n",
       "      <th>HDI_for_year</th>\n",
       "      <th>gdp_for_year</th>\n",
       "      <th>gdp_per_capita</th>\n",
       "      <th>generation</th>\n",
       "    </tr>\n",
       "  </thead>\n",
       "  <tbody>\n",
       "    <tr>\n",
       "      <th>0</th>\n",
       "      <td>8</td>\n",
       "      <td>1987</td>\n",
       "      <td>0</td>\n",
       "      <td>1</td>\n",
       "      <td>21</td>\n",
       "      <td>312900</td>\n",
       "      <td>6.71</td>\n",
       "      <td>0.673</td>\n",
       "      <td>2.157</td>\n",
       "      <td>796</td>\n",
       "      <td>3</td>\n",
       "    </tr>\n",
       "    <tr>\n",
       "      <th>1</th>\n",
       "      <td>8</td>\n",
       "      <td>1987</td>\n",
       "      <td>0</td>\n",
       "      <td>3</td>\n",
       "      <td>16</td>\n",
       "      <td>308000</td>\n",
       "      <td>5.19</td>\n",
       "      <td>0.673</td>\n",
       "      <td>2.157</td>\n",
       "      <td>796</td>\n",
       "      <td>1</td>\n",
       "    </tr>\n",
       "    <tr>\n",
       "      <th>2</th>\n",
       "      <td>8</td>\n",
       "      <td>1987</td>\n",
       "      <td>1</td>\n",
       "      <td>1</td>\n",
       "      <td>14</td>\n",
       "      <td>289700</td>\n",
       "      <td>4.83</td>\n",
       "      <td>0.673</td>\n",
       "      <td>2.157</td>\n",
       "      <td>796</td>\n",
       "      <td>3</td>\n",
       "    </tr>\n",
       "    <tr>\n",
       "      <th>3</th>\n",
       "      <td>8</td>\n",
       "      <td>1987</td>\n",
       "      <td>0</td>\n",
       "      <td>5</td>\n",
       "      <td>1</td>\n",
       "      <td>21800</td>\n",
       "      <td>4.59</td>\n",
       "      <td>0.673</td>\n",
       "      <td>2.157</td>\n",
       "      <td>796</td>\n",
       "      <td>0</td>\n",
       "    </tr>\n",
       "    <tr>\n",
       "      <th>4</th>\n",
       "      <td>8</td>\n",
       "      <td>1987</td>\n",
       "      <td>0</td>\n",
       "      <td>2</td>\n",
       "      <td>9</td>\n",
       "      <td>274300</td>\n",
       "      <td>3.28</td>\n",
       "      <td>0.673</td>\n",
       "      <td>2.157</td>\n",
       "      <td>796</td>\n",
       "      <td>2</td>\n",
       "    </tr>\n",
       "  </tbody>\n",
       "</table>\n",
       "</div>"
      ],
      "text/plain": [
       "  country  year sex age  suicides_no  population  suicides/100k_pop  \\\n",
       "0       8  1987   0   1           21      312900               6.71   \n",
       "1       8  1987   0   3           16      308000               5.19   \n",
       "2       8  1987   1   1           14      289700               4.83   \n",
       "3       8  1987   0   5            1       21800               4.59   \n",
       "4       8  1987   0   2            9      274300               3.28   \n",
       "\n",
       "   HDI_for_year gdp_for_year  gdp_per_capita generation  \n",
       "0         0.673        2.157             796          3  \n",
       "1         0.673        2.157             796          1  \n",
       "2         0.673        2.157             796          3  \n",
       "3         0.673        2.157             796          0  \n",
       "4         0.673        2.157             796          2  "
      ]
     },
     "execution_count": 130,
     "metadata": {
      "tags": []
     },
     "output_type": "execute_result"
    }
   ],
   "source": [
    "d.drop(columns = d.columns[7], inplace=True)\n",
    "d.head()"
   ]
  },
  {
   "cell_type": "code",
   "execution_count": 0,
   "metadata": {
    "colab": {},
    "colab_type": "code",
    "id": "Sfkso1oSYZTX",
    "outputId": "05aa57f7-85f9-4f17-afb4-93137248a1d4",
    "slideshow": {
     "slide_type": "skip"
    }
   },
   "outputs": [
    {
     "data": {
      "text/html": [
       "<div>\n",
       "<style scoped>\n",
       "    .dataframe tbody tr th:only-of-type {\n",
       "        vertical-align: middle;\n",
       "    }\n",
       "\n",
       "    .dataframe tbody tr th {\n",
       "        vertical-align: top;\n",
       "    }\n",
       "\n",
       "    .dataframe thead th {\n",
       "        text-align: right;\n",
       "    }\n",
       "</style>\n",
       "<table border=\"1\" class=\"dataframe\">\n",
       "  <thead>\n",
       "    <tr style=\"text-align: right;\">\n",
       "      <th></th>\n",
       "      <th>cod_pais</th>\n",
       "      <th>nom_pais</th>\n",
       "      <th>no_zeros</th>\n",
       "      <th>no_registros</th>\n",
       "      <th>porcentaje</th>\n",
       "    </tr>\n",
       "  </thead>\n",
       "  <tbody>\n",
       "    <tr>\n",
       "      <th>0</th>\n",
       "      <td>8</td>\n",
       "      <td>Albania</td>\n",
       "      <td>58</td>\n",
       "      <td>264</td>\n",
       "      <td>21.969697</td>\n",
       "    </tr>\n",
       "    <tr>\n",
       "      <th>1</th>\n",
       "      <td>32</td>\n",
       "      <td>Argentina</td>\n",
       "      <td>0</td>\n",
       "      <td>372</td>\n",
       "      <td>0.000000</td>\n",
       "    </tr>\n",
       "    <tr>\n",
       "      <th>2</th>\n",
       "      <td>51</td>\n",
       "      <td>Armenia</td>\n",
       "      <td>46</td>\n",
       "      <td>298</td>\n",
       "      <td>15.436242</td>\n",
       "    </tr>\n",
       "    <tr>\n",
       "      <th>3</th>\n",
       "      <td>36</td>\n",
       "      <td>Australia</td>\n",
       "      <td>3</td>\n",
       "      <td>360</td>\n",
       "      <td>0.833333</td>\n",
       "    </tr>\n",
       "    <tr>\n",
       "      <th>4</th>\n",
       "      <td>40</td>\n",
       "      <td>Austria</td>\n",
       "      <td>9</td>\n",
       "      <td>382</td>\n",
       "      <td>2.356021</td>\n",
       "    </tr>\n",
       "    <tr>\n",
       "      <th>5</th>\n",
       "      <td>31</td>\n",
       "      <td>Azerbaijan</td>\n",
       "      <td>27</td>\n",
       "      <td>192</td>\n",
       "      <td>14.062500</td>\n",
       "    </tr>\n",
       "    <tr>\n",
       "      <th>6</th>\n",
       "      <td>112</td>\n",
       "      <td>Belarus</td>\n",
       "      <td>0</td>\n",
       "      <td>252</td>\n",
       "      <td>0.000000</td>\n",
       "    </tr>\n",
       "    <tr>\n",
       "      <th>7</th>\n",
       "      <td>56</td>\n",
       "      <td>Belgium</td>\n",
       "      <td>7</td>\n",
       "      <td>372</td>\n",
       "      <td>1.881720</td>\n",
       "    </tr>\n",
       "    <tr>\n",
       "      <th>8</th>\n",
       "      <td>70</td>\n",
       "      <td>Bosnia and Herzegovina</td>\n",
       "      <td>10</td>\n",
       "      <td>24</td>\n",
       "      <td>41.666667</td>\n",
       "    </tr>\n",
       "    <tr>\n",
       "      <th>9</th>\n",
       "      <td>76</td>\n",
       "      <td>Brazil</td>\n",
       "      <td>0</td>\n",
       "      <td>372</td>\n",
       "      <td>0.000000</td>\n",
       "    </tr>\n",
       "    <tr>\n",
       "      <th>10</th>\n",
       "      <td>100</td>\n",
       "      <td>Bulgaria</td>\n",
       "      <td>8</td>\n",
       "      <td>360</td>\n",
       "      <td>2.222222</td>\n",
       "    </tr>\n",
       "    <tr>\n",
       "      <th>11</th>\n",
       "      <td>124</td>\n",
       "      <td>Canada</td>\n",
       "      <td>0</td>\n",
       "      <td>348</td>\n",
       "      <td>0.000000</td>\n",
       "    </tr>\n",
       "    <tr>\n",
       "      <th>12</th>\n",
       "      <td>152</td>\n",
       "      <td>Chile</td>\n",
       "      <td>3</td>\n",
       "      <td>372</td>\n",
       "      <td>0.806452</td>\n",
       "    </tr>\n",
       "    <tr>\n",
       "      <th>13</th>\n",
       "      <td>170</td>\n",
       "      <td>Colombia</td>\n",
       "      <td>2</td>\n",
       "      <td>372</td>\n",
       "      <td>0.537634</td>\n",
       "    </tr>\n",
       "    <tr>\n",
       "      <th>14</th>\n",
       "      <td>188</td>\n",
       "      <td>Costa Rica</td>\n",
       "      <td>33</td>\n",
       "      <td>360</td>\n",
       "      <td>9.166667</td>\n",
       "    </tr>\n",
       "    <tr>\n",
       "      <th>15</th>\n",
       "      <td>191</td>\n",
       "      <td>Croatia</td>\n",
       "      <td>9</td>\n",
       "      <td>262</td>\n",
       "      <td>3.435115</td>\n",
       "    </tr>\n",
       "    <tr>\n",
       "      <th>16</th>\n",
       "      <td>192</td>\n",
       "      <td>Cuba</td>\n",
       "      <td>2</td>\n",
       "      <td>288</td>\n",
       "      <td>0.694444</td>\n",
       "    </tr>\n",
       "    <tr>\n",
       "      <th>17</th>\n",
       "      <td>196</td>\n",
       "      <td>Cyprus</td>\n",
       "      <td>80</td>\n",
       "      <td>178</td>\n",
       "      <td>44.943820</td>\n",
       "    </tr>\n",
       "    <tr>\n",
       "      <th>18</th>\n",
       "      <td>203</td>\n",
       "      <td>Czech Republic</td>\n",
       "      <td>7</td>\n",
       "      <td>322</td>\n",
       "      <td>2.173913</td>\n",
       "    </tr>\n",
       "    <tr>\n",
       "      <th>19</th>\n",
       "      <td>208</td>\n",
       "      <td>Denmark</td>\n",
       "      <td>20</td>\n",
       "      <td>264</td>\n",
       "      <td>7.575758</td>\n",
       "    </tr>\n",
       "    <tr>\n",
       "      <th>20</th>\n",
       "      <td>218</td>\n",
       "      <td>Ecuador</td>\n",
       "      <td>0</td>\n",
       "      <td>372</td>\n",
       "      <td>0.000000</td>\n",
       "    </tr>\n",
       "    <tr>\n",
       "      <th>21</th>\n",
       "      <td>222</td>\n",
       "      <td>El Salvador</td>\n",
       "      <td>4</td>\n",
       "      <td>288</td>\n",
       "      <td>1.388889</td>\n",
       "    </tr>\n",
       "    <tr>\n",
       "      <th>22</th>\n",
       "      <td>233</td>\n",
       "      <td>Estonia</td>\n",
       "      <td>20</td>\n",
       "      <td>252</td>\n",
       "      <td>7.936508</td>\n",
       "    </tr>\n",
       "    <tr>\n",
       "      <th>23</th>\n",
       "      <td>242</td>\n",
       "      <td>Fiji</td>\n",
       "      <td>39</td>\n",
       "      <td>132</td>\n",
       "      <td>29.545455</td>\n",
       "    </tr>\n",
       "    <tr>\n",
       "      <th>24</th>\n",
       "      <td>246</td>\n",
       "      <td>Finland</td>\n",
       "      <td>15</td>\n",
       "      <td>348</td>\n",
       "      <td>4.310345</td>\n",
       "    </tr>\n",
       "    <tr>\n",
       "      <th>25</th>\n",
       "      <td>250</td>\n",
       "      <td>France</td>\n",
       "      <td>0</td>\n",
       "      <td>360</td>\n",
       "      <td>0.000000</td>\n",
       "    </tr>\n",
       "    <tr>\n",
       "      <th>26</th>\n",
       "      <td>268</td>\n",
       "      <td>Georgia</td>\n",
       "      <td>30</td>\n",
       "      <td>264</td>\n",
       "      <td>11.363636</td>\n",
       "    </tr>\n",
       "    <tr>\n",
       "      <th>27</th>\n",
       "      <td>276</td>\n",
       "      <td>Germany</td>\n",
       "      <td>0</td>\n",
       "      <td>312</td>\n",
       "      <td>0.000000</td>\n",
       "    </tr>\n",
       "    <tr>\n",
       "      <th>28</th>\n",
       "      <td>300</td>\n",
       "      <td>Greece</td>\n",
       "      <td>41</td>\n",
       "      <td>372</td>\n",
       "      <td>11.021505</td>\n",
       "    </tr>\n",
       "    <tr>\n",
       "      <th>29</th>\n",
       "      <td>320</td>\n",
       "      <td>Guatemala</td>\n",
       "      <td>25</td>\n",
       "      <td>360</td>\n",
       "      <td>6.944444</td>\n",
       "    </tr>\n",
       "    <tr>\n",
       "      <th>...</th>\n",
       "      <td>...</td>\n",
       "      <td>...</td>\n",
       "      <td>...</td>\n",
       "      <td>...</td>\n",
       "      <td>...</td>\n",
       "    </tr>\n",
       "    <tr>\n",
       "      <th>46</th>\n",
       "      <td>528</td>\n",
       "      <td>Netherlands</td>\n",
       "      <td>4</td>\n",
       "      <td>382</td>\n",
       "      <td>1.047120</td>\n",
       "    </tr>\n",
       "    <tr>\n",
       "      <th>47</th>\n",
       "      <td>554</td>\n",
       "      <td>New Zealand</td>\n",
       "      <td>8</td>\n",
       "      <td>348</td>\n",
       "      <td>2.298851</td>\n",
       "    </tr>\n",
       "    <tr>\n",
       "      <th>48</th>\n",
       "      <td>558</td>\n",
       "      <td>Nicaragua</td>\n",
       "      <td>4</td>\n",
       "      <td>72</td>\n",
       "      <td>5.555556</td>\n",
       "    </tr>\n",
       "    <tr>\n",
       "      <th>49</th>\n",
       "      <td>578</td>\n",
       "      <td>Norway</td>\n",
       "      <td>14</td>\n",
       "      <td>360</td>\n",
       "      <td>3.888889</td>\n",
       "    </tr>\n",
       "    <tr>\n",
       "      <th>50</th>\n",
       "      <td>591</td>\n",
       "      <td>Panama</td>\n",
       "      <td>33</td>\n",
       "      <td>300</td>\n",
       "      <td>11.000000</td>\n",
       "    </tr>\n",
       "    <tr>\n",
       "      <th>51</th>\n",
       "      <td>600</td>\n",
       "      <td>Paraguay</td>\n",
       "      <td>24</td>\n",
       "      <td>324</td>\n",
       "      <td>7.407407</td>\n",
       "    </tr>\n",
       "    <tr>\n",
       "      <th>52</th>\n",
       "      <td>608</td>\n",
       "      <td>Philippines</td>\n",
       "      <td>4</td>\n",
       "      <td>180</td>\n",
       "      <td>2.222222</td>\n",
       "    </tr>\n",
       "    <tr>\n",
       "      <th>53</th>\n",
       "      <td>616</td>\n",
       "      <td>Poland</td>\n",
       "      <td>0</td>\n",
       "      <td>288</td>\n",
       "      <td>0.000000</td>\n",
       "    </tr>\n",
       "    <tr>\n",
       "      <th>54</th>\n",
       "      <td>620</td>\n",
       "      <td>Portugal</td>\n",
       "      <td>17</td>\n",
       "      <td>324</td>\n",
       "      <td>5.246914</td>\n",
       "    </tr>\n",
       "    <tr>\n",
       "      <th>55</th>\n",
       "      <td>642</td>\n",
       "      <td>Romania</td>\n",
       "      <td>1</td>\n",
       "      <td>334</td>\n",
       "      <td>0.299401</td>\n",
       "    </tr>\n",
       "    <tr>\n",
       "      <th>56</th>\n",
       "      <td>688</td>\n",
       "      <td>Serbia</td>\n",
       "      <td>18</td>\n",
       "      <td>216</td>\n",
       "      <td>8.333333</td>\n",
       "    </tr>\n",
       "    <tr>\n",
       "      <th>57</th>\n",
       "      <td>702</td>\n",
       "      <td>Singapore</td>\n",
       "      <td>20</td>\n",
       "      <td>372</td>\n",
       "      <td>5.376344</td>\n",
       "    </tr>\n",
       "    <tr>\n",
       "      <th>58</th>\n",
       "      <td>703</td>\n",
       "      <td>Slovakia</td>\n",
       "      <td>40</td>\n",
       "      <td>264</td>\n",
       "      <td>15.151515</td>\n",
       "    </tr>\n",
       "    <tr>\n",
       "      <th>59</th>\n",
       "      <td>705</td>\n",
       "      <td>Slovenia</td>\n",
       "      <td>21</td>\n",
       "      <td>252</td>\n",
       "      <td>8.333333</td>\n",
       "    </tr>\n",
       "    <tr>\n",
       "      <th>60</th>\n",
       "      <td>710</td>\n",
       "      <td>South Africa</td>\n",
       "      <td>4</td>\n",
       "      <td>240</td>\n",
       "      <td>1.666667</td>\n",
       "    </tr>\n",
       "    <tr>\n",
       "      <th>61</th>\n",
       "      <td>724</td>\n",
       "      <td>Spain</td>\n",
       "      <td>2</td>\n",
       "      <td>372</td>\n",
       "      <td>0.537634</td>\n",
       "    </tr>\n",
       "    <tr>\n",
       "      <th>62</th>\n",
       "      <td>144</td>\n",
       "      <td>Sri Lanka</td>\n",
       "      <td>0</td>\n",
       "      <td>132</td>\n",
       "      <td>0.000000</td>\n",
       "    </tr>\n",
       "    <tr>\n",
       "      <th>63</th>\n",
       "      <td>740</td>\n",
       "      <td>Suriname</td>\n",
       "      <td>45</td>\n",
       "      <td>336</td>\n",
       "      <td>13.392857</td>\n",
       "    </tr>\n",
       "    <tr>\n",
       "      <th>64</th>\n",
       "      <td>752</td>\n",
       "      <td>Sweden</td>\n",
       "      <td>7</td>\n",
       "      <td>358</td>\n",
       "      <td>1.955307</td>\n",
       "    </tr>\n",
       "    <tr>\n",
       "      <th>65</th>\n",
       "      <td>756</td>\n",
       "      <td>Switzerland</td>\n",
       "      <td>8</td>\n",
       "      <td>252</td>\n",
       "      <td>3.174603</td>\n",
       "    </tr>\n",
       "    <tr>\n",
       "      <th>66</th>\n",
       "      <td>764</td>\n",
       "      <td>Thailand</td>\n",
       "      <td>6</td>\n",
       "      <td>334</td>\n",
       "      <td>1.796407</td>\n",
       "    </tr>\n",
       "    <tr>\n",
       "      <th>67</th>\n",
       "      <td>780</td>\n",
       "      <td>Trinidad and Tobago</td>\n",
       "      <td>34</td>\n",
       "      <td>324</td>\n",
       "      <td>10.493827</td>\n",
       "    </tr>\n",
       "    <tr>\n",
       "      <th>68</th>\n",
       "      <td>792</td>\n",
       "      <td>Turkey</td>\n",
       "      <td>0</td>\n",
       "      <td>84</td>\n",
       "      <td>0.000000</td>\n",
       "    </tr>\n",
       "    <tr>\n",
       "      <th>69</th>\n",
       "      <td>795</td>\n",
       "      <td>Turkmenistan</td>\n",
       "      <td>16</td>\n",
       "      <td>348</td>\n",
       "      <td>4.597701</td>\n",
       "    </tr>\n",
       "    <tr>\n",
       "      <th>70</th>\n",
       "      <td>804</td>\n",
       "      <td>Ukraine</td>\n",
       "      <td>0</td>\n",
       "      <td>336</td>\n",
       "      <td>0.000000</td>\n",
       "    </tr>\n",
       "    <tr>\n",
       "      <th>71</th>\n",
       "      <td>784</td>\n",
       "      <td>United Arab Emirates</td>\n",
       "      <td>25</td>\n",
       "      <td>72</td>\n",
       "      <td>34.722222</td>\n",
       "    </tr>\n",
       "    <tr>\n",
       "      <th>72</th>\n",
       "      <td>826</td>\n",
       "      <td>United Kingdom</td>\n",
       "      <td>3</td>\n",
       "      <td>372</td>\n",
       "      <td>0.806452</td>\n",
       "    </tr>\n",
       "    <tr>\n",
       "      <th>73</th>\n",
       "      <td>840</td>\n",
       "      <td>United States</td>\n",
       "      <td>0</td>\n",
       "      <td>372</td>\n",
       "      <td>0.000000</td>\n",
       "    </tr>\n",
       "    <tr>\n",
       "      <th>74</th>\n",
       "      <td>858</td>\n",
       "      <td>Uruguay</td>\n",
       "      <td>10</td>\n",
       "      <td>336</td>\n",
       "      <td>2.976190</td>\n",
       "    </tr>\n",
       "    <tr>\n",
       "      <th>75</th>\n",
       "      <td>860</td>\n",
       "      <td>Uzbekistan</td>\n",
       "      <td>0</td>\n",
       "      <td>264</td>\n",
       "      <td>0.000000</td>\n",
       "    </tr>\n",
       "  </tbody>\n",
       "</table>\n",
       "<p>76 rows × 5 columns</p>\n",
       "</div>"
      ],
      "text/plain": [
       "    cod_pais                nom_pais  no_zeros  no_registros  porcentaje\n",
       "0          8                 Albania        58           264   21.969697\n",
       "1         32               Argentina         0           372    0.000000\n",
       "2         51                 Armenia        46           298   15.436242\n",
       "3         36               Australia         3           360    0.833333\n",
       "4         40                 Austria         9           382    2.356021\n",
       "5         31              Azerbaijan        27           192   14.062500\n",
       "6        112                 Belarus         0           252    0.000000\n",
       "7         56                 Belgium         7           372    1.881720\n",
       "8         70  Bosnia and Herzegovina        10            24   41.666667\n",
       "9         76                  Brazil         0           372    0.000000\n",
       "10       100                Bulgaria         8           360    2.222222\n",
       "11       124                  Canada         0           348    0.000000\n",
       "12       152                   Chile         3           372    0.806452\n",
       "13       170                Colombia         2           372    0.537634\n",
       "14       188              Costa Rica        33           360    9.166667\n",
       "15       191                 Croatia         9           262    3.435115\n",
       "16       192                    Cuba         2           288    0.694444\n",
       "17       196                  Cyprus        80           178   44.943820\n",
       "18       203          Czech Republic         7           322    2.173913\n",
       "19       208                 Denmark        20           264    7.575758\n",
       "20       218                 Ecuador         0           372    0.000000\n",
       "21       222             El Salvador         4           288    1.388889\n",
       "22       233                 Estonia        20           252    7.936508\n",
       "23       242                    Fiji        39           132   29.545455\n",
       "24       246                 Finland        15           348    4.310345\n",
       "25       250                  France         0           360    0.000000\n",
       "26       268                 Georgia        30           264   11.363636\n",
       "27       276                 Germany         0           312    0.000000\n",
       "28       300                  Greece        41           372   11.021505\n",
       "29       320               Guatemala        25           360    6.944444\n",
       "..       ...                     ...       ...           ...         ...\n",
       "46       528             Netherlands         4           382    1.047120\n",
       "47       554             New Zealand         8           348    2.298851\n",
       "48       558               Nicaragua         4            72    5.555556\n",
       "49       578                  Norway        14           360    3.888889\n",
       "50       591                  Panama        33           300   11.000000\n",
       "51       600                Paraguay        24           324    7.407407\n",
       "52       608             Philippines         4           180    2.222222\n",
       "53       616                  Poland         0           288    0.000000\n",
       "54       620                Portugal        17           324    5.246914\n",
       "55       642                 Romania         1           334    0.299401\n",
       "56       688                  Serbia        18           216    8.333333\n",
       "57       702               Singapore        20           372    5.376344\n",
       "58       703                Slovakia        40           264   15.151515\n",
       "59       705                Slovenia        21           252    8.333333\n",
       "60       710            South Africa         4           240    1.666667\n",
       "61       724                   Spain         2           372    0.537634\n",
       "62       144               Sri Lanka         0           132    0.000000\n",
       "63       740                Suriname        45           336   13.392857\n",
       "64       752                  Sweden         7           358    1.955307\n",
       "65       756             Switzerland         8           252    3.174603\n",
       "66       764                Thailand         6           334    1.796407\n",
       "67       780     Trinidad and Tobago        34           324   10.493827\n",
       "68       792                  Turkey         0            84    0.000000\n",
       "69       795            Turkmenistan        16           348    4.597701\n",
       "70       804                 Ukraine         0           336    0.000000\n",
       "71       784    United Arab Emirates        25            72   34.722222\n",
       "72       826          United Kingdom         3           372    0.806452\n",
       "73       840           United States         0           372    0.000000\n",
       "74       858                 Uruguay        10           336    2.976190\n",
       "75       860              Uzbekistan         0           264    0.000000\n",
       "\n",
       "[76 rows x 5 columns]"
      ]
     },
     "execution_count": 131,
     "metadata": {
      "tags": []
     },
     "output_type": "execute_result"
    }
   ],
   "source": [
    "zeros(\"menor\", 50)"
   ]
  },
  {
   "cell_type": "markdown",
   "metadata": {
    "colab_type": "text",
    "id": "m2GNpNr2YS9b",
    "slideshow": {
     "slide_type": "slide"
    }
   },
   "source": [
    "**Conclusion 2:** Paises que cumplan un umbral del 50% y su poblacion no alcance la media de la poblacion general del data set tambien son posiblemente descartados dado que su significancia es minima.\n",
    "\n"
   ]
  },
  {
   "cell_type": "code",
   "execution_count": 0,
   "metadata": {
    "colab": {
     "base_uri": "https://localhost:8080/",
     "height": 638
    },
    "colab_type": "code",
    "id": "zF-g237yYZ1u",
    "outputId": "151dea73-e649-4341-a97a-6ea24d5f1022",
    "slideshow": {
     "slide_type": "slide"
    }
   },
   "outputs": [
    {
     "data": {
      "text/html": [
       "<div>\n",
       "<style scoped>\n",
       "    .dataframe tbody tr th:only-of-type {\n",
       "        vertical-align: middle;\n",
       "    }\n",
       "\n",
       "    .dataframe tbody tr th {\n",
       "        vertical-align: top;\n",
       "    }\n",
       "\n",
       "    .dataframe thead th {\n",
       "        text-align: right;\n",
       "    }\n",
       "</style>\n",
       "<table border=\"1\" class=\"dataframe\">\n",
       "  <thead>\n",
       "    <tr style=\"text-align: right;\">\n",
       "      <th></th>\n",
       "      <th>cod_pais</th>\n",
       "      <th>nom_pais</th>\n",
       "      <th>no_zeros</th>\n",
       "      <th>no_registros</th>\n",
       "      <th>porcentaje</th>\n",
       "    </tr>\n",
       "  </thead>\n",
       "  <tbody>\n",
       "    <tr>\n",
       "      <th>0</th>\n",
       "      <td>32</td>\n",
       "      <td>Argentina</td>\n",
       "      <td>0</td>\n",
       "      <td>372</td>\n",
       "      <td>0.0</td>\n",
       "    </tr>\n",
       "    <tr>\n",
       "      <th>1</th>\n",
       "      <td>112</td>\n",
       "      <td>Belarus</td>\n",
       "      <td>0</td>\n",
       "      <td>252</td>\n",
       "      <td>0.0</td>\n",
       "    </tr>\n",
       "    <tr>\n",
       "      <th>2</th>\n",
       "      <td>76</td>\n",
       "      <td>Brazil</td>\n",
       "      <td>0</td>\n",
       "      <td>372</td>\n",
       "      <td>0.0</td>\n",
       "    </tr>\n",
       "    <tr>\n",
       "      <th>3</th>\n",
       "      <td>124</td>\n",
       "      <td>Canada</td>\n",
       "      <td>0</td>\n",
       "      <td>348</td>\n",
       "      <td>0.0</td>\n",
       "    </tr>\n",
       "    <tr>\n",
       "      <th>4</th>\n",
       "      <td>218</td>\n",
       "      <td>Ecuador</td>\n",
       "      <td>0</td>\n",
       "      <td>372</td>\n",
       "      <td>0.0</td>\n",
       "    </tr>\n",
       "    <tr>\n",
       "      <th>5</th>\n",
       "      <td>250</td>\n",
       "      <td>France</td>\n",
       "      <td>0</td>\n",
       "      <td>360</td>\n",
       "      <td>0.0</td>\n",
       "    </tr>\n",
       "    <tr>\n",
       "      <th>6</th>\n",
       "      <td>276</td>\n",
       "      <td>Germany</td>\n",
       "      <td>0</td>\n",
       "      <td>312</td>\n",
       "      <td>0.0</td>\n",
       "    </tr>\n",
       "    <tr>\n",
       "      <th>7</th>\n",
       "      <td>392</td>\n",
       "      <td>Japan</td>\n",
       "      <td>0</td>\n",
       "      <td>372</td>\n",
       "      <td>0.0</td>\n",
       "    </tr>\n",
       "    <tr>\n",
       "      <th>8</th>\n",
       "      <td>398</td>\n",
       "      <td>Kazakhstan</td>\n",
       "      <td>0</td>\n",
       "      <td>312</td>\n",
       "      <td>0.0</td>\n",
       "    </tr>\n",
       "    <tr>\n",
       "      <th>9</th>\n",
       "      <td>484</td>\n",
       "      <td>Mexico</td>\n",
       "      <td>0</td>\n",
       "      <td>372</td>\n",
       "      <td>0.0</td>\n",
       "    </tr>\n",
       "    <tr>\n",
       "      <th>10</th>\n",
       "      <td>616</td>\n",
       "      <td>Poland</td>\n",
       "      <td>0</td>\n",
       "      <td>288</td>\n",
       "      <td>0.0</td>\n",
       "    </tr>\n",
       "    <tr>\n",
       "      <th>11</th>\n",
       "      <td>144</td>\n",
       "      <td>Sri Lanka</td>\n",
       "      <td>0</td>\n",
       "      <td>132</td>\n",
       "      <td>0.0</td>\n",
       "    </tr>\n",
       "    <tr>\n",
       "      <th>12</th>\n",
       "      <td>792</td>\n",
       "      <td>Turkey</td>\n",
       "      <td>0</td>\n",
       "      <td>84</td>\n",
       "      <td>0.0</td>\n",
       "    </tr>\n",
       "    <tr>\n",
       "      <th>13</th>\n",
       "      <td>804</td>\n",
       "      <td>Ukraine</td>\n",
       "      <td>0</td>\n",
       "      <td>336</td>\n",
       "      <td>0.0</td>\n",
       "    </tr>\n",
       "    <tr>\n",
       "      <th>14</th>\n",
       "      <td>840</td>\n",
       "      <td>United States</td>\n",
       "      <td>0</td>\n",
       "      <td>372</td>\n",
       "      <td>0.0</td>\n",
       "    </tr>\n",
       "    <tr>\n",
       "      <th>15</th>\n",
       "      <td>860</td>\n",
       "      <td>Uzbekistan</td>\n",
       "      <td>0</td>\n",
       "      <td>264</td>\n",
       "      <td>0.0</td>\n",
       "    </tr>\n",
       "  </tbody>\n",
       "</table>\n",
       "</div>"
      ],
      "text/plain": [
       "    cod_pais       nom_pais  no_zeros  no_registros  porcentaje\n",
       "0         32      Argentina         0           372         0.0\n",
       "1        112        Belarus         0           252         0.0\n",
       "2         76         Brazil         0           372         0.0\n",
       "3        124         Canada         0           348         0.0\n",
       "4        218        Ecuador         0           372         0.0\n",
       "5        250         France         0           360         0.0\n",
       "6        276        Germany         0           312         0.0\n",
       "7        392          Japan         0           372         0.0\n",
       "8        398     Kazakhstan         0           312         0.0\n",
       "9        484         Mexico         0           372         0.0\n",
       "10       616         Poland         0           288         0.0\n",
       "11       144      Sri Lanka         0           132         0.0\n",
       "12       792         Turkey         0            84         0.0\n",
       "13       804        Ukraine         0           336         0.0\n",
       "14       840  United States         0           372         0.0\n",
       "15       860     Uzbekistan         0           264         0.0"
      ]
     },
     "execution_count": 132,
     "metadata": {
      "tags": []
     },
     "output_type": "execute_result"
    }
   ],
   "source": [
    "z = zeros(\"menor\", 0.01)\n",
    "z"
   ]
  },
  {
   "cell_type": "markdown",
   "metadata": {
    "colab_type": "text",
    "id": "dQnHHHOIYWHq",
    "slideshow": {
     "slide_type": "slide"
    }
   },
   "source": [
    "**Conclusion 3:** Paises que cumplan un umbral casi nulo (0%) son posibles candidatos a realizar analisis, dado que son aquellos que presentan mas de un 99.99% de datos sobre sus suicidios que ademas fueron diferentes de 0.\n",
    "\n",
    "\n",
    "Ahora sabiendo los paises que presentan una mayor confianza respecto a los datos registrados sobre suicidios se pretende remplazar los zeros con la media respecto a cada pais."
   ]
  },
  {
   "cell_type": "code",
   "execution_count": 0,
   "metadata": {
    "colab": {},
    "colab_type": "code",
    "id": "-u67xoiOwiVq",
    "outputId": "55469bbd-2546-4f64-d066-db3848d334a9",
    "slideshow": {
     "slide_type": "slide"
    }
   },
   "outputs": [
    {
     "data": {
      "text/plain": [
       "RangeIndex(start=0, stop=4920, step=1)"
      ]
     },
     "execution_count": 133,
     "metadata": {
      "tags": []
     },
     "output_type": "execute_result"
    }
   ],
   "source": [
    "for i in set(d.country.values):\n",
    "  if i in z[\"cod_pais\"].values:\n",
    "    a = 0\n",
    "  else:\n",
    "    d.drop(d.index[d.country == i].values, inplace=True)\n",
    "    \n",
    "d.reset_index(inplace=True)\n",
    "d.drop(columns = \"index\", inplace=True)\n",
    "d.index"
   ]
  },
  {
   "cell_type": "code",
   "execution_count": 0,
   "metadata": {
    "colab": {},
    "colab_type": "code",
    "id": "SznLxSZFzQEO",
    "outputId": "9efa6fec-88ef-415d-e551-1d3726a615dd",
    "slideshow": {
     "slide_type": "slide"
    }
   },
   "outputs": [
    {
     "data": {
      "text/plain": [
       "{32, 76, 112, 124, 144, 218, 250, 276, 392, 398, 484, 616, 792, 804, 840, 860}"
      ]
     },
     "execution_count": 134,
     "metadata": {
      "tags": []
     },
     "output_type": "execute_result"
    }
   ],
   "source": [
    "set(d[\"country\"])"
   ]
  },
  {
   "cell_type": "markdown",
   "metadata": {
    "colab_type": "text",
    "id": "RPcaJ6DXa33Q",
    "slideshow": {
     "slide_type": "slide"
    }
   },
   "source": [
    "Ahora de acuerdo a cada pais que posea valores en 0 para su numero de suicidios se procede a remplazarlo con la media de **suicidios** de ese pais."
   ]
  },
  {
   "cell_type": "code",
   "execution_count": 0,
   "metadata": {
    "colab": {
     "base_uri": "https://localhost:8080/",
     "height": 122
    },
    "colab_type": "code",
    "id": "AxM511RPYfaz",
    "outputId": "e3437430-dc89-443a-962b-68bbb842e389",
    "slideshow": {
     "slide_type": "slide"
    }
   },
   "outputs": [
    {
     "name": "stderr",
     "output_type": "stream",
     "text": [
      "/opt/miniconda/lib/python2.7/site-packages/ipykernel_launcher.py:2: SettingWithCopyWarning: \n",
      "A value is trying to be set on a copy of a slice from a DataFrame\n",
      "\n",
      "See the caveats in the documentation: http://pandas.pydata.org/pandas-docs/stable/indexing.html#indexing-view-versus-copy\n",
      "  \n"
     ]
    }
   ],
   "source": [
    "for i in np.unique(d.country):\n",
    "    d[\"suicides_no\"][d.country==i]=d[\"suicides_no\"][d.country==i].replace(0, value=np.mean(d[\"suicides_no\"][d.country==i]))"
   ]
  },
  {
   "cell_type": "markdown",
   "metadata": {
    "colab_type": "text",
    "id": "c_8RDUN59Vmh",
    "slideshow": {
     "slide_type": "slide"
    }
   },
   "source": [
    "**NOTA:** Posiblemente al calcular el valor de la media se esta almacenando numeros de tipo flotante demaciado grandes por lo tanto corregir que solo guarde 3 cifras decimales."
   ]
  },
  {
   "cell_type": "code",
   "execution_count": 0,
   "metadata": {
    "colab": {},
    "colab_type": "code",
    "id": "tE1umhU_aJiE",
    "slideshow": {
     "slide_type": "slide"
    }
   },
   "outputs": [],
   "source": [
    "d.suicides_no = d.suicides_no.round(3)"
   ]
  },
  {
   "cell_type": "markdown",
   "metadata": {
    "colab_type": "text",
    "id": "R99baniJ8r-R",
    "slideshow": {
     "slide_type": "slide"
    }
   },
   "source": [
    "# <center>Exportar nuevo dataset:\n",
    "    \n",
    "   <center>se exporta el nuevo dataset despues de ser tratado para trabajar con el </center>"
   ]
  },
  {
   "cell_type": "code",
   "execution_count": 0,
   "metadata": {
    "colab": {
     "base_uri": "https://localhost:8080/",
     "height": 241
    },
    "colab_type": "code",
    "id": "RVguGfT484UF",
    "outputId": "5d21bf31-c902-4b9f-94b1-9e6f69eac413",
    "slideshow": {
     "slide_type": "slide"
    }
   },
   "outputs": [
    {
     "data": {
      "text/plain": [
       "(4920, 11)"
      ]
     },
     "execution_count": 138,
     "metadata": {
      "tags": []
     },
     "output_type": "execute_result"
    }
   ],
   "source": [
    "d.shape"
   ]
  },
  {
   "cell_type": "code",
   "execution_count": 0,
   "metadata": {
    "colab": {},
    "colab_type": "code",
    "id": "QiyaoHpf8hAi",
    "slideshow": {
     "slide_type": "slide"
    }
   },
   "outputs": [],
   "source": [
    "export_csv = d.to_csv (r'export_dataframe.csv', index = None, header=True)"
   ]
  },
  {
   "cell_type": "markdown",
   "metadata": {
    "colab_type": "text",
    "id": "RzFwuONn6tGI",
    "slideshow": {
     "slide_type": "skip"
    }
   },
   "source": [
    "<strike> **NOTA (19/07/14):** Revizar que el dataframe **export_dataframe.csv** aun tiene problemas de valores NaN. \\\\\n",
    "**NOTA (19/07/14):** El problema parece ser de dos paises en concreto **Republic of Korea (410)** y **Russian Federation (643)** <strike>\n",
    "\n",
    "\n"
   ]
  },
  {
   "cell_type": "markdown",
   "metadata": {
    "colab_type": "text",
    "id": "G8AbmsrWz0yV",
    "slideshow": {
     "slide_type": "slide"
    }
   },
   "source": [
    "# <center> Se importa el nuevo dataset"
   ]
  },
  {
   "cell_type": "code",
   "execution_count": 0,
   "metadata": {
    "colab": {},
    "colab_type": "code",
    "id": "nBykpzkxz0yW",
    "outputId": "70f3de33-66bd-4fcc-f58e-564b0b0d2c1f",
    "slideshow": {
     "slide_type": "slide"
    }
   },
   "outputs": [
    {
     "name": "stdout",
     "output_type": "stream",
     "text": [
      "(4920, 11)\n"
     ]
    }
   ],
   "source": [
    "d = pd.read_csv(\"export_dataframe.csv\")\n",
    "print d.shape"
   ]
  },
  {
   "cell_type": "code",
   "execution_count": 0,
   "metadata": {
    "colab": {},
    "colab_type": "code",
    "id": "xrBOAM3Iz0yc",
    "outputId": "387955f2-4426-4220-8134-8008639d5aaf",
    "slideshow": {
     "slide_type": "slide"
    }
   },
   "outputs": [
    {
     "data": {
      "text/html": [
       "<div>\n",
       "<style scoped>\n",
       "    .dataframe tbody tr th:only-of-type {\n",
       "        vertical-align: middle;\n",
       "    }\n",
       "\n",
       "    .dataframe tbody tr th {\n",
       "        vertical-align: top;\n",
       "    }\n",
       "\n",
       "    .dataframe thead th {\n",
       "        text-align: right;\n",
       "    }\n",
       "</style>\n",
       "<table border=\"1\" class=\"dataframe\">\n",
       "  <thead>\n",
       "    <tr style=\"text-align: right;\">\n",
       "      <th></th>\n",
       "      <th>country</th>\n",
       "      <th>year</th>\n",
       "      <th>sex</th>\n",
       "      <th>age</th>\n",
       "      <th>suicides_no</th>\n",
       "      <th>population</th>\n",
       "      <th>suicides/100k_pop</th>\n",
       "      <th>HDI_for_year</th>\n",
       "      <th>gdp_for_year</th>\n",
       "      <th>gdp_per_capita</th>\n",
       "      <th>generation</th>\n",
       "    </tr>\n",
       "  </thead>\n",
       "  <tbody>\n",
       "    <tr>\n",
       "      <th>0</th>\n",
       "      <td>32</td>\n",
       "      <td>1985</td>\n",
       "      <td>0</td>\n",
       "      <td>5</td>\n",
       "      <td>202</td>\n",
       "      <td>363000</td>\n",
       "      <td>55.65</td>\n",
       "      <td>0.694</td>\n",
       "      <td>88.417</td>\n",
       "      <td>3264</td>\n",
       "      <td>0</td>\n",
       "    </tr>\n",
       "    <tr>\n",
       "      <th>1</th>\n",
       "      <td>32</td>\n",
       "      <td>1985</td>\n",
       "      <td>0</td>\n",
       "      <td>4</td>\n",
       "      <td>485</td>\n",
       "      <td>1997000</td>\n",
       "      <td>24.29</td>\n",
       "      <td>0.694</td>\n",
       "      <td>88.417</td>\n",
       "      <td>3264</td>\n",
       "      <td>0</td>\n",
       "    </tr>\n",
       "    <tr>\n",
       "      <th>2</th>\n",
       "      <td>32</td>\n",
       "      <td>1985</td>\n",
       "      <td>0</td>\n",
       "      <td>3</td>\n",
       "      <td>414</td>\n",
       "      <td>3346300</td>\n",
       "      <td>12.37</td>\n",
       "      <td>0.694</td>\n",
       "      <td>88.417</td>\n",
       "      <td>3264</td>\n",
       "      <td>1</td>\n",
       "    </tr>\n",
       "    <tr>\n",
       "      <th>3</th>\n",
       "      <td>32</td>\n",
       "      <td>1985</td>\n",
       "      <td>1</td>\n",
       "      <td>4</td>\n",
       "      <td>210</td>\n",
       "      <td>2304000</td>\n",
       "      <td>9.11</td>\n",
       "      <td>0.694</td>\n",
       "      <td>88.417</td>\n",
       "      <td>3264</td>\n",
       "      <td>0</td>\n",
       "    </tr>\n",
       "    <tr>\n",
       "      <th>4</th>\n",
       "      <td>32</td>\n",
       "      <td>1985</td>\n",
       "      <td>0</td>\n",
       "      <td>2</td>\n",
       "      <td>177</td>\n",
       "      <td>2234200</td>\n",
       "      <td>7.92</td>\n",
       "      <td>0.694</td>\n",
       "      <td>88.417</td>\n",
       "      <td>3264</td>\n",
       "      <td>2</td>\n",
       "    </tr>\n",
       "  </tbody>\n",
       "</table>\n",
       "</div>"
      ],
      "text/plain": [
       "   country  year  sex  age  suicides_no  population  suicides/100k_pop  \\\n",
       "0       32  1985    0    5          202      363000              55.65   \n",
       "1       32  1985    0    4          485     1997000              24.29   \n",
       "2       32  1985    0    3          414     3346300              12.37   \n",
       "3       32  1985    1    4          210     2304000               9.11   \n",
       "4       32  1985    0    2          177     2234200               7.92   \n",
       "\n",
       "   HDI_for_year  gdp_for_year  gdp_per_capita  generation  \n",
       "0         0.694        88.417            3264           0  \n",
       "1         0.694        88.417            3264           0  \n",
       "2         0.694        88.417            3264           1  \n",
       "3         0.694        88.417            3264           0  \n",
       "4         0.694        88.417            3264           2  "
      ]
     },
     "execution_count": 142,
     "metadata": {
      "tags": []
     },
     "output_type": "execute_result"
    }
   ],
   "source": [
    "d.head()"
   ]
  },
  {
   "cell_type": "code",
   "execution_count": 0,
   "metadata": {
    "colab": {},
    "colab_type": "code",
    "id": "gp0JfWgNz0yu",
    "outputId": "b8c1b815-acb5-49ac-9c2c-826fc5bb69c6",
    "slideshow": {
     "slide_type": "slide"
    }
   },
   "outputs": [
    {
     "data": {
      "text/html": [
       "<div>\n",
       "<style scoped>\n",
       "    .dataframe tbody tr th:only-of-type {\n",
       "        vertical-align: middle;\n",
       "    }\n",
       "\n",
       "    .dataframe tbody tr th {\n",
       "        vertical-align: top;\n",
       "    }\n",
       "\n",
       "    .dataframe thead th {\n",
       "        text-align: right;\n",
       "    }\n",
       "</style>\n",
       "<table border=\"1\" class=\"dataframe\">\n",
       "  <thead>\n",
       "    <tr style=\"text-align: right;\">\n",
       "      <th></th>\n",
       "      <th>English_short_name_lower_case</th>\n",
       "      <th>Alpha-2_code</th>\n",
       "      <th>Alpha-3_code</th>\n",
       "      <th>Numeric_code</th>\n",
       "      <th>ISO_3166-2</th>\n",
       "    </tr>\n",
       "  </thead>\n",
       "  <tbody>\n",
       "    <tr>\n",
       "      <th>0</th>\n",
       "      <td>Afghanistan</td>\n",
       "      <td>AF</td>\n",
       "      <td>AFG</td>\n",
       "      <td>4</td>\n",
       "      <td>ISO 3166-2:AF</td>\n",
       "    </tr>\n",
       "    <tr>\n",
       "      <th>1</th>\n",
       "      <td>Åland Islands</td>\n",
       "      <td>AX</td>\n",
       "      <td>ALA</td>\n",
       "      <td>248</td>\n",
       "      <td>ISO 3166-2:AX</td>\n",
       "    </tr>\n",
       "    <tr>\n",
       "      <th>2</th>\n",
       "      <td>Albania</td>\n",
       "      <td>AL</td>\n",
       "      <td>ALB</td>\n",
       "      <td>8</td>\n",
       "      <td>ISO 3166-2:AL</td>\n",
       "    </tr>\n",
       "    <tr>\n",
       "      <th>3</th>\n",
       "      <td>Algeria</td>\n",
       "      <td>DZ</td>\n",
       "      <td>DZA</td>\n",
       "      <td>12</td>\n",
       "      <td>ISO 3166-2:DZ</td>\n",
       "    </tr>\n",
       "    <tr>\n",
       "      <th>4</th>\n",
       "      <td>American Samoa</td>\n",
       "      <td>AS</td>\n",
       "      <td>ASM</td>\n",
       "      <td>16</td>\n",
       "      <td>ISO 3166-2:AS</td>\n",
       "    </tr>\n",
       "  </tbody>\n",
       "</table>\n",
       "</div>"
      ],
      "text/plain": [
       "  English_short_name_lower_case Alpha-2_code Alpha-3_code  Numeric_code  \\\n",
       "0                   Afghanistan           AF          AFG             4   \n",
       "1                 Åland Islands           AX          ALA           248   \n",
       "2                       Albania           AL          ALB             8   \n",
       "3                       Algeria           DZ          DZA            12   \n",
       "4                American Samoa           AS          ASM            16   \n",
       "\n",
       "      ISO_3166-2  \n",
       "0  ISO 3166-2:AF  \n",
       "1  ISO 3166-2:AX  \n",
       "2  ISO 3166-2:AL  \n",
       "3  ISO 3166-2:DZ  \n",
       "4  ISO 3166-2:AS  "
      ]
     },
     "execution_count": 8,
     "metadata": {
      "tags": []
     },
     "output_type": "execute_result"
    }
   ],
   "source": [
    "country_codes.head()"
   ]
  },
  {
   "cell_type": "markdown",
   "metadata": {
    "colab_type": "text",
    "id": "dHP_jDwRz0y2",
    "slideshow": {
     "slide_type": "slide"
    }
   },
   "source": [
    "## $X_1$. Graficas:"
   ]
  },
  {
   "cell_type": "code",
   "execution_count": 0,
   "metadata": {
    "colab": {},
    "colab_type": "code",
    "id": "JuExeXkDz0y3",
    "outputId": "2c4c6343-27db-45ae-dd42-19f17a9692d2",
    "slideshow": {
     "slide_type": "slide"
    }
   },
   "outputs": [
    {
     "data": {
      "image/png": "[encoded data removed]",
      "text/plain": [
       "<matplotlib.figure.Figure at 0x7f6f4705d890>"
      ]
     },
     "metadata": {
      "tags": []
     },
     "output_type": "display_data"
    }
   ],
   "source": [
    "v=np.unique(d.country)\n",
    "plt.figure(figsize=(20,40))\n",
    "y=range(1985, 2017)\n",
    "for i in range(1,len(v)):\n",
    "    ant=d[d.country==v[i]]\n",
    "    sn=[]\n",
    "    for j in y:\n",
    "        s=ant[ant.year==j].suicides_no.sum()\n",
    "        sn=np.append(sn,s)\n",
    "    sn[sn==0]=np.mean(sn[sn>0])\n",
    "    plt.subplot(20,6,i).set_xticklabels([]),plt.bar(y,sn),plt.title( country_codes.English_short_name_lower_case[country_codes.Numeric_code == v[i]].values[0] , fontsize=8)"
   ]
  },
  {
   "cell_type": "markdown",
   "metadata": {
    "colab_type": "text",
    "id": "V-HXFvzkz0y7",
    "slideshow": {
     "slide_type": "slide"
    }
   },
   "source": [
    "## $X_2$: Analisis de dependencias de variables"
   ]
  },
  {
   "cell_type": "code",
   "execution_count": 0,
   "metadata": {
    "colab": {},
    "colab_type": "code",
    "id": "M9p_ayjcz0y8",
    "outputId": "c08e184d-3372-4840-a157-caea87f15695",
    "slideshow": {
     "slide_type": "slide"
    }
   },
   "outputs": [
    {
     "data": {
      "image/png": "[encoded data removed]",
      "text/plain": [
       "<matplotlib.figure.Figure at 0x7f6f4705d9d0>"
      ]
     },
     "metadata": {
      "tags": []
     },
     "output_type": "display_data"
    }
   ],
   "source": [
    "pd.plotting.scatter_matrix(d, figsize=(10,10));"
   ]
  },
  {
   "cell_type": "markdown",
   "metadata": {
    "colab_type": "text",
    "id": "7Udn9wHUz0zA",
    "slideshow": {
     "slide_type": "slide"
    }
   },
   "source": [
    "## $X_3$: Ensayo de modelos:\n",
    "\n",
    "Modelos de regresion conocidos:\n",
    "\n",
    "- **DecisionTreeRegressor** \n",
    "- **SVR** \n",
    "- **RandomForestRegressor** \n",
    "- **LinearRegression** \n",
    "- **Ridge** \n",
    "- **RidgeCV** \n",
    "- **Lasso**\n",
    "- **BayesianRidge** \n",
    "- **Logistic regression** \n",
    "- **PolynomialFeatures** \n"
   ]
  },
  {
   "cell_type": "code",
   "execution_count": 0,
   "metadata": {
    "colab": {},
    "colab_type": "code",
    "id": "8WoA_1V_z0zB",
    "slideshow": {
     "slide_type": "slide"
    }
   },
   "outputs": [],
   "source": [
    "X = d.values[:,[0,1,2,3,5,7,8,9,10]]\n",
    "y = d.values[:,4]"
   ]
  },
  {
   "cell_type": "code",
   "execution_count": 0,
   "metadata": {
    "colab": {},
    "colab_type": "code",
    "id": "2_H55doZz0zF",
    "outputId": "87ffde46-d7c9-4860-d250-21e435edb630",
    "slideshow": {
     "slide_type": "slide"
    }
   },
   "outputs": [
    {
     "name": "stdout",
     "output_type": "stream",
     "text": [
      "dimensiones train (3936, 9) (3936,)\n",
      "dimsensions test  (984, 9) (984,)\n",
      "acierto en train 0.571517683001\n",
      "acierto en test  0.548359382885\n"
     ]
    }
   ],
   "source": [
    "from sklearn.model_selection import train_test_split\n",
    "from sklearn.linear_model import LinearRegression\n",
    "test_size = 0.2\n",
    "\n",
    "d_train, d_test, c_train, c_test = train_test_split(X,y,test_size=test_size)\n",
    "\n",
    "print \"dimensiones train\", d_train.shape, c_train.shape\n",
    "print \"dimsensions test \", d_test.shape, c_test.shape\n",
    "\n",
    "lr = LinearRegression()\n",
    "lr.fit(d_train, c_train)\n",
    "print \"acierto en train\", lr.score(d_train, c_train)\n",
    "print \"acierto en test \", lr.score(d_test, c_test)\n",
    "\n",
    "predicciones_train = lr.predict(d_train)\n",
    "predicciones_test  = lr.predict(d_test)"
   ]
  },
  {
   "cell_type": "code",
   "execution_count": 0,
   "metadata": {
    "colab": {},
    "colab_type": "code",
    "id": "ZkktT10Lz0zI",
    "outputId": "46e3a3a8-90bf-4acb-dd27-a2473d2977b4",
    "slideshow": {
     "slide_type": "slide"
    }
   },
   "outputs": [
    {
     "name": "stdout",
     "output_type": "stream",
     "text": [
      "dimensiones train (3936, 9) (3936,)\n",
      "dimsensions test  (984, 9) (984,)\n",
      "acierto en train 1.0\n",
      "acierto en test  0.975130987798\n"
     ]
    }
   ],
   "source": [
    "from sklearn.model_selection import train_test_split\n",
    "from sklearn.tree import DecisionTreeRegressor\n",
    "\n",
    "test_size = 0.2\n",
    "\n",
    "d_train, d_test, c_train, c_test = train_test_split(X,y,test_size=test_size)\n",
    "\n",
    "print \"dimensiones train\", d_train.shape, c_train.shape\n",
    "print \"dimsensions test \", d_test.shape, c_test.shape\n",
    "\n",
    "dt = DecisionTreeRegressor()\n",
    "dt.fit(d_train, c_train)\n",
    "print \"acierto en train\", dt.score(d_train, c_train)\n",
    "print \"acierto en test \", dt.score(d_test, c_test)\n",
    "\n",
    "predicciones_train = dt.predict(d_train)\n",
    "predicciones_test  = dt.predict(d_test)"
   ]
  },
  {
   "cell_type": "code",
   "execution_count": 0,
   "metadata": {
    "colab": {},
    "colab_type": "code",
    "id": "8b74CEIzz0zM",
    "outputId": "6b2aa8dd-4b3e-40a9-dcc3-999ce968adec",
    "slideshow": {
     "slide_type": "slide"
    }
   },
   "outputs": [
    {
     "name": "stdout",
     "output_type": "stream",
     "text": [
      "dimensiones train (3936, 9) (3936,)\n",
      "dimsensions test  (984, 9) (984,)\n",
      "acierto en train 0.997802535021\n",
      "acierto en test  0.990327528275\n"
     ]
    }
   ],
   "source": [
    "from sklearn.ensemble import RandomForestRegressor\n",
    "\n",
    "test_size = 0.2\n",
    "\n",
    "d_train, d_test, c_train, c_test = train_test_split(X,y,test_size=test_size)\n",
    "\n",
    "print \"dimensiones train\", d_train.shape, c_train.shape\n",
    "print \"dimsensions test \", d_test.shape, c_test.shape\n",
    "\n",
    "rf = RandomForestRegressor()\n",
    "rf.fit(d_train, c_train)\n",
    "print \"acierto en train\", rf.score(d_train, c_train)\n",
    "print \"acierto en test \", rf.score(d_test, c_test)\n",
    "\n",
    "predicciones_train = rf.predict(d_train)\n",
    "predicciones_test  = rf.predict(d_test)"
   ]
  },
  {
   "cell_type": "code",
   "execution_count": 0,
   "metadata": {
    "colab": {},
    "colab_type": "code",
    "id": "h-BkrZ_4z0zV",
    "outputId": "27dd8ca8-5379-4724-99bc-9ec5a07d4d40",
    "slideshow": {
     "slide_type": "slide"
    }
   },
   "outputs": [
    {
     "name": "stdout",
     "output_type": "stream",
     "text": [
      "dimensiones train (3936, 9) (3936,)\n",
      "dimsensions test  (984, 9) (984,)\n",
      "acierto en train -0.146802760843\n",
      "acierto en test  -0.145474281504\n"
     ]
    }
   ],
   "source": [
    "from sklearn.svm import SVR\n",
    "test_size = 0.2\n",
    "\n",
    "x_train, x_test, y_train, y_test = train_test_split(X,y,test_size=test_size)\n",
    "\n",
    "print \"dimensiones train\", d_train.shape, c_train.shape\n",
    "print \"dimsensions test \", d_test.shape, c_test.shape\n",
    "\n",
    "\n",
    "\n",
    "svrr = SVR(kernel='rbf')\n",
    "svrr.fit(x_train, y_train)\n",
    "print \"acierto en train\", svrr.score(x_train, y_train)\n",
    "print \"acierto en test \", svrr.score(x_test, y_test)\n",
    "\n",
    "predicciones_train = svrr.predict(x_train)\n",
    "predicciones_test  = svrr.predict(x_test)"
   ]
  },
  {
   "cell_type": "code",
   "execution_count": 0,
   "metadata": {
    "colab": {},
    "colab_type": "code",
    "id": "zDx6PD7Az0zg",
    "outputId": "4c9311d6-6a20-44e7-cb0c-01a20923814a",
    "slideshow": {
     "slide_type": "skip"
    }
   },
   "outputs": [
    {
     "name": "stdout",
     "output_type": "stream",
     "text": [
      "dimensiones train (3936, 9) (3936,)\n",
      "dimsensions test  (984, 9) (984,)\n",
      "acierto en train"
     ]
    },
    {
     "ename": "ValueError",
     "evalue": "Input contains NaN, infinity or a value too large for dtype('float64').",
     "output_type": "error",
     "traceback": [
      "\u001b[0;31m\u001b[0m",
      "\u001b[0;31mValueError\u001b[0mTraceback (most recent call last)",
      "\u001b[0;32m<ipython-input-146-55922a610849>\u001b[0m in \u001b[0;36m<module>\u001b[0;34m()\u001b[0m\n\u001b[1;32m     11\u001b[0m \u001b[0msvrp\u001b[0m \u001b[0;34m=\u001b[0m \u001b[0mSVR\u001b[0m\u001b[0;34m(\u001b[0m\u001b[0mkernel\u001b[0m\u001b[0;34m=\u001b[0m\u001b[0;34m'poly'\u001b[0m\u001b[0;34m)\u001b[0m\u001b[0;34m\u001b[0m\u001b[0m\n\u001b[1;32m     12\u001b[0m \u001b[0msvrp\u001b[0m\u001b[0;34m.\u001b[0m\u001b[0mfit\u001b[0m\u001b[0;34m(\u001b[0m\u001b[0mx_train\u001b[0m\u001b[0;34m,\u001b[0m \u001b[0my_train\u001b[0m\u001b[0;34m)\u001b[0m\u001b[0;34m\u001b[0m\u001b[0m\n\u001b[0;32m---> 13\u001b[0;31m \u001b[0;32mprint\u001b[0m \u001b[0;34m\"acierto en train\"\u001b[0m\u001b[0;34m,\u001b[0m \u001b[0msvrp\u001b[0m\u001b[0;34m.\u001b[0m\u001b[0mscore\u001b[0m\u001b[0;34m(\u001b[0m\u001b[0mx_train\u001b[0m\u001b[0;34m,\u001b[0m \u001b[0my_train\u001b[0m\u001b[0;34m)\u001b[0m\u001b[0;34m\u001b[0m\u001b[0m\n\u001b[0m\u001b[1;32m     14\u001b[0m \u001b[0;32mprint\u001b[0m \u001b[0;34m\"acierto en test \"\u001b[0m\u001b[0;34m,\u001b[0m \u001b[0msvrp\u001b[0m\u001b[0;34m.\u001b[0m\u001b[0mscore\u001b[0m\u001b[0;34m(\u001b[0m\u001b[0mx_test\u001b[0m\u001b[0;34m,\u001b[0m \u001b[0my_test\u001b[0m\u001b[0;34m)\u001b[0m\u001b[0;34m\u001b[0m\u001b[0m\n\u001b[1;32m     15\u001b[0m \u001b[0;34m\u001b[0m\u001b[0m\n",
      "\u001b[0;32m/opt/miniconda/lib/python2.7/site-packages/sklearn/base.pyc\u001b[0m in \u001b[0;36mscore\u001b[0;34m(self, X, y, sample_weight)\u001b[0m\n\u001b[1;32m    385\u001b[0m         \u001b[0;32mfrom\u001b[0m \u001b[0;34m.\u001b[0m\u001b[0mmetrics\u001b[0m \u001b[0;32mimport\u001b[0m \u001b[0mr2_score\u001b[0m\u001b[0;34m\u001b[0m\u001b[0m\n\u001b[1;32m    386\u001b[0m         return r2_score(y, self.predict(X), sample_weight=sample_weight,\n\u001b[0;32m--> 387\u001b[0;31m                         multioutput='variance_weighted')\n\u001b[0m\u001b[1;32m    388\u001b[0m \u001b[0;34m\u001b[0m\u001b[0m\n\u001b[1;32m    389\u001b[0m \u001b[0;34m\u001b[0m\u001b[0m\n",
      "\u001b[0;32m/opt/miniconda/lib/python2.7/site-packages/sklearn/metrics/regression.pyc\u001b[0m in \u001b[0;36mr2_score\u001b[0;34m(y_true, y_pred, sample_weight, multioutput)\u001b[0m\n\u001b[1;32m    528\u001b[0m     \"\"\"\n\u001b[1;32m    529\u001b[0m     y_type, y_true, y_pred, multioutput = _check_reg_targets(\n\u001b[0;32m--> 530\u001b[0;31m         y_true, y_pred, multioutput)\n\u001b[0m\u001b[1;32m    531\u001b[0m \u001b[0;34m\u001b[0m\u001b[0m\n\u001b[1;32m    532\u001b[0m     \u001b[0;32mif\u001b[0m \u001b[0msample_weight\u001b[0m \u001b[0;32mis\u001b[0m \u001b[0;32mnot\u001b[0m \u001b[0mNone\u001b[0m\u001b[0;34m:\u001b[0m\u001b[0;34m\u001b[0m\u001b[0m\n",
      "\u001b[0;32m/opt/miniconda/lib/python2.7/site-packages/sklearn/metrics/regression.pyc\u001b[0m in \u001b[0;36m_check_reg_targets\u001b[0;34m(y_true, y_pred, multioutput)\u001b[0m\n\u001b[1;32m     75\u001b[0m     \u001b[0mcheck_consistent_length\u001b[0m\u001b[0;34m(\u001b[0m\u001b[0my_true\u001b[0m\u001b[0;34m,\u001b[0m \u001b[0my_pred\u001b[0m\u001b[0;34m)\u001b[0m\u001b[0;34m\u001b[0m\u001b[0m\n\u001b[1;32m     76\u001b[0m     \u001b[0my_true\u001b[0m \u001b[0;34m=\u001b[0m \u001b[0mcheck_array\u001b[0m\u001b[0;34m(\u001b[0m\u001b[0my_true\u001b[0m\u001b[0;34m,\u001b[0m \u001b[0mensure_2d\u001b[0m\u001b[0;34m=\u001b[0m\u001b[0mFalse\u001b[0m\u001b[0;34m)\u001b[0m\u001b[0;34m\u001b[0m\u001b[0m\n\u001b[0;32m---> 77\u001b[0;31m     \u001b[0my_pred\u001b[0m \u001b[0;34m=\u001b[0m \u001b[0mcheck_array\u001b[0m\u001b[0;34m(\u001b[0m\u001b[0my_pred\u001b[0m\u001b[0;34m,\u001b[0m \u001b[0mensure_2d\u001b[0m\u001b[0;34m=\u001b[0m\u001b[0mFalse\u001b[0m\u001b[0;34m)\u001b[0m\u001b[0;34m\u001b[0m\u001b[0m\n\u001b[0m\u001b[1;32m     78\u001b[0m \u001b[0;34m\u001b[0m\u001b[0m\n\u001b[1;32m     79\u001b[0m     \u001b[0;32mif\u001b[0m \u001b[0my_true\u001b[0m\u001b[0;34m.\u001b[0m\u001b[0mndim\u001b[0m \u001b[0;34m==\u001b[0m \u001b[0;36m1\u001b[0m\u001b[0;34m:\u001b[0m\u001b[0;34m\u001b[0m\u001b[0m\n",
      "\u001b[0;32m/opt/miniconda/lib/python2.7/site-packages/sklearn/utils/validation.pyc\u001b[0m in \u001b[0;36mcheck_array\u001b[0;34m(array, accept_sparse, dtype, order, copy, force_all_finite, ensure_2d, allow_nd, ensure_min_samples, ensure_min_features, warn_on_dtype, estimator)\u001b[0m\n\u001b[1;32m    451\u001b[0m                              % (array.ndim, estimator_name))\n\u001b[1;32m    452\u001b[0m         \u001b[0;32mif\u001b[0m \u001b[0mforce_all_finite\u001b[0m\u001b[0;34m:\u001b[0m\u001b[0;34m\u001b[0m\u001b[0m\n\u001b[0;32m--> 453\u001b[0;31m             \u001b[0m_assert_all_finite\u001b[0m\u001b[0;34m(\u001b[0m\u001b[0marray\u001b[0m\u001b[0;34m)\u001b[0m\u001b[0;34m\u001b[0m\u001b[0m\n\u001b[0m\u001b[1;32m    454\u001b[0m \u001b[0;34m\u001b[0m\u001b[0m\n\u001b[1;32m    455\u001b[0m     \u001b[0mshape_repr\u001b[0m \u001b[0;34m=\u001b[0m \u001b[0m_shape_repr\u001b[0m\u001b[0;34m(\u001b[0m\u001b[0marray\u001b[0m\u001b[0;34m.\u001b[0m\u001b[0mshape\u001b[0m\u001b[0;34m)\u001b[0m\u001b[0;34m\u001b[0m\u001b[0m\n",
      "\u001b[0;32m/opt/miniconda/lib/python2.7/site-packages/sklearn/utils/validation.pyc\u001b[0m in \u001b[0;36m_assert_all_finite\u001b[0;34m(X)\u001b[0m\n\u001b[1;32m     42\u001b[0m             and not np.isfinite(X).all()):\n\u001b[1;32m     43\u001b[0m         raise ValueError(\"Input contains NaN, infinity\"\n\u001b[0;32m---> 44\u001b[0;31m                          \" or a value too large for %r.\" % X.dtype)\n\u001b[0m\u001b[1;32m     45\u001b[0m \u001b[0;34m\u001b[0m\u001b[0m\n\u001b[1;32m     46\u001b[0m \u001b[0;34m\u001b[0m\u001b[0m\n",
      "\u001b[0;31mValueError\u001b[0m: Input contains NaN, infinity or a value too large for dtype('float64')."
     ]
    }
   ],
   "source": [
    "from sklearn.svm import SVR\n",
    "test_size = 0.2\n",
    "\n",
    "x_train, x_test, y_train, y_test = train_test_split(X,y,test_size=test_size)\n",
    "\n",
    "print \"dimensiones train\", d_train.shape, c_train.shape\n",
    "print \"dimsensions test \", d_test.shape, c_test.shape\n",
    "\n",
    "\n",
    "\n",
    "svrp = SVR(kernel='poly')\n",
    "svrp.fit(x_train, y_train)\n",
    "print \"acierto en train\", svrp.score(x_train, y_train)\n",
    "print \"acierto en test \", svrp.score(x_test, y_test)\n",
    "\n",
    "predicciones_train = svrp.predict(x_train)\n",
    "predicciones_test  = svrp.predict(x_test)"
   ]
  },
  {
   "cell_type": "code",
   "execution_count": 0,
   "metadata": {
    "colab": {},
    "colab_type": "code",
    "id": "nVS8v8x8z0zm",
    "outputId": "be7ff263-f6b3-4b98-8a2d-7373df2367d4",
    "slideshow": {
     "slide_type": "slide"
    }
   },
   "outputs": [
    {
     "name": "stdout",
     "output_type": "stream",
     "text": [
      "dimensiones train (3936, 9) (3936,)\n",
      "dimsensions test  (984, 9) (984,)\n",
      "acierto en train -3523044.77727\n",
      "acierto en test  -3588751.55051\n"
     ]
    }
   ],
   "source": [
    "from sklearn.linear_model import RidgeCV\n",
    "\n",
    "test_size = 0.2\n",
    "\n",
    "d_train, d_test, c_train, c_test = train_test_split(X,y,test_size=test_size)\n",
    "\n",
    "print \"dimensiones train\", d_train.shape, c_train.shape\n",
    "print \"dimsensions test \", d_test.shape, c_test.shape\n",
    "\n",
    "rcv = RidgeCV(alphas=[1e-3, 1e-2, 1e-1, 1])\n",
    "rcv.fit(d_train, c_train)\n",
    "print \"acierto en train\", rcv.score(d_train, c_train)\n",
    "print \"acierto en test \", rcv.score(d_test, c_test)\n",
    "\n",
    "predicciones_train = rcv.predict(d_train)\n",
    "predicciones_test  = rcv.predict(d_test)\n"
   ]
  },
  {
   "cell_type": "markdown",
   "metadata": {
    "colab_type": "text",
    "id": "TPzVHfFxz0zp",
    "slideshow": {
     "slide_type": "slide"
    }
   },
   "source": [
    "## $X_4$: Interpretacion y pruebas del modelo seleccionado:\n",
    "\n",
    "DecisionTreeRegressor"
   ]
  },
  {
   "cell_type": "code",
   "execution_count": 0,
   "metadata": {
    "colab": {},
    "colab_type": "code",
    "id": "7MqhuERoz0zq",
    "outputId": "3b6574ec-b32a-47e5-9489-138e2a218f75",
    "slideshow": {
     "slide_type": "slide"
    }
   },
   "outputs": [
    {
     "name": "stdout",
     "output_type": "stream",
     "text": [
      "[32 1993 1 5 698400 0.78 236.74200000000002 7768 0]\n",
      "58\n"
     ]
    }
   ],
   "source": [
    "print X[100,]\n",
    "print y[100]"
   ]
  },
  {
   "cell_type": "code",
   "execution_count": 0,
   "metadata": {
    "colab": {},
    "colab_type": "code",
    "id": "ssl9iSW7z0zu",
    "outputId": "d9cef28e-d5c9-4b38-abff-37248bd7ed65",
    "slideshow": {
     "slide_type": "slide"
    }
   },
   "outputs": [
    {
     "name": "stdout",
     "output_type": "stream",
     "text": [
      "[[32 1993 1 5 698400 0.78 236.74200000000002 7768 0]]\n",
      "[ 58.]\n"
     ]
    }
   ],
   "source": [
    "prueba0 = np.array([[32, 1993, 1, 5, 698400, 0.78, 236.74200000000002, 7768, 0]],\n",
    "      dtype=object)\n",
    "print prueba0\n",
    "print dt.predict(prueba0)"
   ]
  },
  {
   "cell_type": "markdown",
   "metadata": {
    "colab_type": "text",
    "id": "WQb9cToUz0zz",
    "slideshow": {
     "slide_type": "slide"
    }
   },
   "source": [
    "### Hipotesis 1:  El año afecta minimamente al numero de suicidios\n"
   ]
  },
  {
   "cell_type": "code",
   "execution_count": 0,
   "metadata": {
    "colab": {},
    "colab_type": "code",
    "id": "Aum6yp8pz0z2",
    "slideshow": {
     "slide_type": "slide"
    }
   },
   "outputs": [],
   "source": [
    "def year(sample, index):\n",
    "    for i in np.unique(d.year):\n",
    "        sample[0][1] = i\n",
    "        eje.append(dt.predict(sample))\n",
    "\n",
    "    plt.xlabel('Year')\n",
    "    plt.ylabel('Suicides No')\n",
    "    titulo = country_codes.English_short_name_lower_case[country_codes.Numeric_code == sample[0][0]].values[0]\n",
    "    plt.title(titulo)  \n",
    "    plt.plot(np.unique(d.year),eje)\n",
    "\n",
    "    return d[d.index == index]"
   ]
  },
  {
   "cell_type": "code",
   "execution_count": 0,
   "metadata": {
    "colab": {},
    "colab_type": "code",
    "id": "3NGR-Mlvz0z5",
    "outputId": "6ca66afb-231b-466e-921e-c5d6b5e30991",
    "slideshow": {
     "slide_type": "slide"
    }
   },
   "outputs": [
    {
     "data": {
      "text/html": [
       "<div>\n",
       "<style scoped>\n",
       "    .dataframe tbody tr th:only-of-type {\n",
       "        vertical-align: middle;\n",
       "    }\n",
       "\n",
       "    .dataframe tbody tr th {\n",
       "        vertical-align: top;\n",
       "    }\n",
       "\n",
       "    .dataframe thead th {\n",
       "        text-align: right;\n",
       "    }\n",
       "</style>\n",
       "<table border=\"1\" class=\"dataframe\">\n",
       "  <thead>\n",
       "    <tr style=\"text-align: right;\">\n",
       "      <th></th>\n",
       "      <th>country</th>\n",
       "      <th>year</th>\n",
       "      <th>sex</th>\n",
       "      <th>age</th>\n",
       "      <th>suicides_no</th>\n",
       "      <th>population</th>\n",
       "      <th>suicides/100k_pop</th>\n",
       "      <th>HDI_for_year</th>\n",
       "      <th>gdp_for_year</th>\n",
       "      <th>gdp_per_capita</th>\n",
       "      <th>generation</th>\n",
       "    </tr>\n",
       "  </thead>\n",
       "  <tbody>\n",
       "    <tr>\n",
       "      <th>4672</th>\n",
       "      <td>860</td>\n",
       "      <td>1991</td>\n",
       "      <td>1</td>\n",
       "      <td>5</td>\n",
       "      <td>30</td>\n",
       "      <td>216200</td>\n",
       "      <td>13.88</td>\n",
       "      <td>0.65</td>\n",
       "      <td>13.678</td>\n",
       "      <td>788</td>\n",
       "      <td>0</td>\n",
       "    </tr>\n",
       "  </tbody>\n",
       "</table>\n",
       "</div>"
      ],
      "text/plain": [
       "      country  year  sex  age  suicides_no  population  suicides/100k_pop  \\\n",
       "4672      860  1991    1    5           30      216200              13.88   \n",
       "\n",
       "      HDI_for_year  gdp_for_year  gdp_per_capita  generation  \n",
       "4672          0.65        13.678             788           0  "
      ]
     },
     "execution_count": 190,
     "metadata": {
      "tags": []
     },
     "output_type": "execute_result"
    },
    {
     "data": {
      "image/png": "[encoded data removed]",
      "text/plain": [
       "<matplotlib.figure.Figure at 0x7f6ef8231b10>"
      ]
     },
     "metadata": {
      "tags": []
     },
     "output_type": "display_data"
    }
   ],
   "source": [
    "eje = []\n",
    "import random\n",
    "tamano = len(X)\n",
    "\n",
    "ran = random.randrange(tamano)\n",
    "\n",
    "sample = np.array([X[4672]],dtype=object)\n",
    "year(sample = sample, index = 4672)"
   ]
  },
  {
   "cell_type": "code",
   "execution_count": 0,
   "metadata": {
    "colab": {},
    "colab_type": "code",
    "id": "ynJc-NOiz0z-",
    "outputId": "2836dcf2-c0d4-446f-a47a-1f2f59640ce0",
    "slideshow": {
     "slide_type": "slide"
    }
   },
   "outputs": [
    {
     "data": {
      "text/html": [
       "<div>\n",
       "<style scoped>\n",
       "    .dataframe tbody tr th:only-of-type {\n",
       "        vertical-align: middle;\n",
       "    }\n",
       "\n",
       "    .dataframe tbody tr th {\n",
       "        vertical-align: top;\n",
       "    }\n",
       "\n",
       "    .dataframe thead th {\n",
       "        text-align: right;\n",
       "    }\n",
       "</style>\n",
       "<table border=\"1\" class=\"dataframe\">\n",
       "  <thead>\n",
       "    <tr style=\"text-align: right;\">\n",
       "      <th></th>\n",
       "      <th>country</th>\n",
       "      <th>year</th>\n",
       "      <th>sex</th>\n",
       "      <th>age</th>\n",
       "      <th>suicides_no</th>\n",
       "      <th>population</th>\n",
       "      <th>suicides/100k_pop</th>\n",
       "      <th>HDI_for_year</th>\n",
       "      <th>gdp_for_year</th>\n",
       "      <th>gdp_per_capita</th>\n",
       "      <th>generation</th>\n",
       "    </tr>\n",
       "  </thead>\n",
       "  <tbody>\n",
       "    <tr>\n",
       "      <th>0</th>\n",
       "      <td>32</td>\n",
       "      <td>2000</td>\n",
       "      <td>0</td>\n",
       "      <td>5</td>\n",
       "      <td>202</td>\n",
       "      <td>363000</td>\n",
       "      <td>55.65</td>\n",
       "      <td>0.694</td>\n",
       "      <td>88.417</td>\n",
       "      <td>3264</td>\n",
       "      <td>0</td>\n",
       "    </tr>\n",
       "    <tr>\n",
       "      <th>1</th>\n",
       "      <td>32</td>\n",
       "      <td>2014</td>\n",
       "      <td>0</td>\n",
       "      <td>4</td>\n",
       "      <td>485</td>\n",
       "      <td>1997000</td>\n",
       "      <td>24.29</td>\n",
       "      <td>0.694</td>\n",
       "      <td>88.417</td>\n",
       "      <td>3264</td>\n",
       "      <td>0</td>\n",
       "    </tr>\n",
       "    <tr>\n",
       "      <th>2</th>\n",
       "      <td>32</td>\n",
       "      <td>2013</td>\n",
       "      <td>0</td>\n",
       "      <td>3</td>\n",
       "      <td>414</td>\n",
       "      <td>3346300</td>\n",
       "      <td>12.37</td>\n",
       "      <td>0.694</td>\n",
       "      <td>88.417</td>\n",
       "      <td>3264</td>\n",
       "      <td>1</td>\n",
       "    </tr>\n",
       "    <tr>\n",
       "      <th>3</th>\n",
       "      <td>32</td>\n",
       "      <td>1986</td>\n",
       "      <td>1</td>\n",
       "      <td>4</td>\n",
       "      <td>210</td>\n",
       "      <td>2304000</td>\n",
       "      <td>9.11</td>\n",
       "      <td>0.694</td>\n",
       "      <td>88.417</td>\n",
       "      <td>3264</td>\n",
       "      <td>0</td>\n",
       "    </tr>\n",
       "    <tr>\n",
       "      <th>4</th>\n",
       "      <td>32</td>\n",
       "      <td>1998</td>\n",
       "      <td>0</td>\n",
       "      <td>2</td>\n",
       "      <td>177</td>\n",
       "      <td>2234200</td>\n",
       "      <td>7.92</td>\n",
       "      <td>0.694</td>\n",
       "      <td>88.417</td>\n",
       "      <td>3264</td>\n",
       "      <td>2</td>\n",
       "    </tr>\n",
       "  </tbody>\n",
       "</table>\n",
       "</div>"
      ],
      "text/plain": [
       "   country  year  sex  age  suicides_no  population  suicides/100k_pop  \\\n",
       "0       32  2000    0    5          202      363000              55.65   \n",
       "1       32  2014    0    4          485     1997000              24.29   \n",
       "2       32  2013    0    3          414     3346300              12.37   \n",
       "3       32  1986    1    4          210     2304000               9.11   \n",
       "4       32  1998    0    2          177     2234200               7.92   \n",
       "\n",
       "   HDI_for_year  gdp_for_year  gdp_per_capita  generation  \n",
       "0         0.694        88.417            3264           0  \n",
       "1         0.694        88.417            3264           0  \n",
       "2         0.694        88.417            3264           1  \n",
       "3         0.694        88.417            3264           0  \n",
       "4         0.694        88.417            3264           2  "
      ]
     },
     "execution_count": 4,
     "metadata": {
      "tags": []
     },
     "output_type": "execute_result"
    }
   ],
   "source": [
    "d_year=d\n",
    "d_year.year=np.random.permutation(d_year.year)\n",
    "d_year.head()"
   ]
  },
  {
   "cell_type": "code",
   "execution_count": 0,
   "metadata": {
    "colab": {},
    "colab_type": "code",
    "id": "kn4IhohHz00C",
    "slideshow": {
     "slide_type": "slide"
    }
   },
   "outputs": [],
   "source": [
    "X = d_year.values[:,[0,1,2,3,5,7,8,9,10]]\n",
    "y = d_year.values[:,4]"
   ]
  },
  {
   "cell_type": "code",
   "execution_count": 0,
   "metadata": {
    "colab": {},
    "colab_type": "code",
    "id": "w0HOrWKkz00G",
    "outputId": "793d0657-611d-4b26-80ea-9db40cc9031f",
    "slideshow": {
     "slide_type": "slide"
    }
   },
   "outputs": [
    {
     "name": "stdout",
     "output_type": "stream",
     "text": [
      "dimensiones train (3936, 9) (3936,)\n",
      "dimsensions test  (984, 9) (984,)\n",
      "acierto en train 1.0\n",
      "acierto en test  0.980407299137\n"
     ]
    }
   ],
   "source": [
    "from sklearn.model_selection import train_test_split\n",
    "from sklearn.tree import DecisionTreeRegressor\n",
    "\n",
    "test_size = 0.2\n",
    "\n",
    "d_train, d_test, c_train, c_test = train_test_split(X,y,test_size=test_size)\n",
    "\n",
    "print \"dimensiones train\", d_train.shape, c_train.shape\n",
    "print \"dimsensions test \", d_test.shape, c_test.shape\n",
    "\n",
    "dt = DecisionTreeRegressor()\n",
    "dt.fit(d_train, c_train)\n",
    "print \"acierto en train\", dt.score(d_train, c_train)\n",
    "print \"acierto en test \", dt.score(d_test, c_test)\n",
    "\n",
    "predicciones_train = dt.predict(d_train)\n",
    "predicciones_test  = dt.predict(d_test)"
   ]
  },
  {
   "cell_type": "markdown",
   "metadata": {
    "colab_type": "text",
    "id": "K_CghBIpz00T",
    "slideshow": {
     "slide_type": "slide"
    }
   },
   "source": [
    "## <center>Conclusión\n",
    "    \n",
    "   Despues de permutar la columna year y hacer nuevamente el entrenamiento y prediccion, podemos observar que el resultado es muy similar, por lo tanto podemos comprobar la hipotesis que el año no influye en gran medida en la variacion de suicidios"
   ]
  },
  {
   "cell_type": "code",
   "execution_count": 0,
   "metadata": {
    "colab": {},
    "colab_type": "code",
    "id": "VY1ad3ZIz00T",
    "outputId": "0d87304f-36f4-4a55-d0a6-446c52bddd21",
    "slideshow": {
     "slide_type": "slide"
    }
   },
   "outputs": [
    {
     "data": {
      "text/html": [
       "<div>\n",
       "<style scoped>\n",
       "    .dataframe tbody tr th:only-of-type {\n",
       "        vertical-align: middle;\n",
       "    }\n",
       "\n",
       "    .dataframe tbody tr th {\n",
       "        vertical-align: top;\n",
       "    }\n",
       "\n",
       "    .dataframe thead th {\n",
       "        text-align: right;\n",
       "    }\n",
       "</style>\n",
       "<table border=\"1\" class=\"dataframe\">\n",
       "  <thead>\n",
       "    <tr style=\"text-align: right;\">\n",
       "      <th></th>\n",
       "      <th>country</th>\n",
       "      <th>year</th>\n",
       "      <th>sex</th>\n",
       "      <th>age</th>\n",
       "      <th>suicides_no</th>\n",
       "      <th>population</th>\n",
       "      <th>suicides/100k_pop</th>\n",
       "      <th>HDI_for_year</th>\n",
       "      <th>gdp_for_year</th>\n",
       "      <th>gdp_per_capita</th>\n",
       "      <th>generation</th>\n",
       "    </tr>\n",
       "  </thead>\n",
       "  <tbody>\n",
       "    <tr>\n",
       "      <th>3041</th>\n",
       "      <td>398</td>\n",
       "      <td>2013</td>\n",
       "      <td>1</td>\n",
       "      <td>5</td>\n",
       "      <td>48</td>\n",
       "      <td>307080</td>\n",
       "      <td>15.63</td>\n",
       "      <td>0.785</td>\n",
       "      <td>236.635</td>\n",
       "      <td>15552</td>\n",
       "      <td>1</td>\n",
       "    </tr>\n",
       "  </tbody>\n",
       "</table>\n",
       "</div>"
      ],
      "text/plain": [
       "      country  year  sex  age  suicides_no  population  suicides/100k_pop  \\\n",
       "3041      398  2013    1    5           48      307080              15.63   \n",
       "\n",
       "      HDI_for_year  gdp_for_year  gdp_per_capita  generation  \n",
       "3041         0.785       236.635           15552           1  "
      ]
     },
     "execution_count": 191,
     "metadata": {
      "tags": []
     },
     "output_type": "execute_result"
    },
    {
     "data": {
      "image/png": "[encoded data removed]",
      "text/plain": [
       "<matplotlib.figure.Figure at 0x7f6ef83e1910>"
      ]
     },
     "metadata": {
      "tags": []
     },
     "output_type": "display_data"
    }
   ],
   "source": [
    "eje = []\n",
    "import random\n",
    "tamano = len(X)\n",
    "ran = random.randrange(tamano)\n",
    "sample = np.array([X[ran]],dtype=object)\n",
    "for i in np.unique(d.year):\n",
    "  sample[0][1] = i\n",
    "  eje.append(rf.predict(sample))\n",
    " \n",
    "plt.xlabel('Year')\n",
    "plt.ylabel('Suicides No')\n",
    "titulo = country_codes.English_short_name_lower_case[country_codes.Numeric_code == sample[0][0]].values[0]\n",
    "plt.title(titulo)  \n",
    "plt.plot(np.unique(d.year),eje)\n",
    "\n",
    "d[d.index == ran]"
   ]
  },
  {
   "cell_type": "markdown",
   "metadata": {
    "colab_type": "text",
    "id": "o1BGo-Czz00Y",
    "slideshow": {
     "slide_type": "slide"
    }
   },
   "source": [
    "### Hipotesis 2: El sexo influye en gran medida."
   ]
  },
  {
   "cell_type": "code",
   "execution_count": 0,
   "metadata": {
    "colab": {},
    "colab_type": "code",
    "id": "RNTRS_a-z00Z",
    "outputId": "5242c6a8-f11c-4e2f-f6cb-a9cf00709f0e",
    "slideshow": {
     "slide_type": "slide"
    }
   },
   "outputs": [
    {
     "name": "stdout",
     "output_type": "stream",
     "text": [
      "[[250 2004 1 5 1750685 0.8490000000000001 2115.742 37240 1]]\n",
      "('Reales:', 1233)\n",
      "('Predichos:', array([ 543.]))\n"
     ]
    },
    {
     "data": {
      "image/png": "[encoded data removed]",
      "text/plain": [
       "<matplotlib.figure.Figure at 0x7f6ef823a310>"
      ]
     },
     "metadata": {
      "tags": []
     },
     "output_type": "display_data"
    },
    {
     "data": {
      "text/html": [
       "<div>\n",
       "<style scoped>\n",
       "    .dataframe tbody tr th:only-of-type {\n",
       "        vertical-align: middle;\n",
       "    }\n",
       "\n",
       "    .dataframe tbody tr th {\n",
       "        vertical-align: top;\n",
       "    }\n",
       "\n",
       "    .dataframe thead th {\n",
       "        text-align: right;\n",
       "    }\n",
       "</style>\n",
       "<table border=\"1\" class=\"dataframe\">\n",
       "  <thead>\n",
       "    <tr style=\"text-align: right;\">\n",
       "      <th></th>\n",
       "      <th>country</th>\n",
       "      <th>year</th>\n",
       "      <th>sex</th>\n",
       "      <th>age</th>\n",
       "      <th>suicides_no</th>\n",
       "      <th>population</th>\n",
       "      <th>suicides/100k_pop</th>\n",
       "      <th>HDI_for_year</th>\n",
       "      <th>gdp_for_year</th>\n",
       "      <th>gdp_per_capita</th>\n",
       "      <th>generation</th>\n",
       "    </tr>\n",
       "  </thead>\n",
       "  <tbody>\n",
       "    <tr>\n",
       "      <th>1944</th>\n",
       "      <td>250</td>\n",
       "      <td>2004</td>\n",
       "      <td>0</td>\n",
       "      <td>5</td>\n",
       "      <td>1233</td>\n",
       "      <td>1750685</td>\n",
       "      <td>70.43</td>\n",
       "      <td>0.849</td>\n",
       "      <td>2115.742</td>\n",
       "      <td>37240</td>\n",
       "      <td>1</td>\n",
       "    </tr>\n",
       "  </tbody>\n",
       "</table>\n",
       "</div>"
      ],
      "text/plain": [
       "      country  year  sex  age  suicides_no  population  suicides/100k_pop  \\\n",
       "1944      250  2004    0    5         1233     1750685              70.43   \n",
       "\n",
       "      HDI_for_year  gdp_for_year  gdp_per_capita  generation  \n",
       "1944         0.849      2115.742           37240           1  "
      ]
     },
     "execution_count": 193,
     "metadata": {
      "tags": []
     },
     "output_type": "execute_result"
    }
   ],
   "source": [
    "import random\n",
    "tamano = len(X)\n",
    "ran = random.randrange(tamano)\n",
    "sample = np.array([X[ran]],dtype=object)\n",
    "\n",
    "if (d.sex[d.index == ran].values[0] == 0):\n",
    "  sample[0][2] = 1\n",
    "else:\n",
    "  sample[0][2] = 0\n",
    "\n",
    "predict = dt.predict(sample)\n",
    "\n",
    "if (sample[0][2] == 1):\n",
    "  bars = ('Hombre (R)','Mujer (P)')\n",
    "else:\n",
    "  bars = ('Mujer (R)','Hombre (P)')\n",
    " \n",
    "print(sample)\n",
    "print(\"Reales:\",d.suicides_no[d.index == ran].values[0])\n",
    "print(\"Predichos:\",predict)\n",
    "\n",
    "y_pos = np.arange(len(bars))\n",
    "titulo = country_codes.English_short_name_lower_case[country_codes.Numeric_code == sample[0][0]].values[0]\n",
    "plt.title(titulo)  \n",
    "plt.bar(y_pos,[d.suicides_no[d.index == ran].values[0], predict])\n",
    "plt.xticks(y_pos, bars)\n",
    "plt.show()\n",
    "\n",
    "d[d.index == ran]"
   ]
  },
  {
   "cell_type": "code",
   "execution_count": 0,
   "metadata": {
    "colab": {},
    "colab_type": "code",
    "id": "FYekKr5Xz00k",
    "outputId": "34f9db5a-bd99-400c-d1f6-2f7830f4963c",
    "slideshow": {
     "slide_type": "slide"
    }
   },
   "outputs": [
    {
     "data": {
      "text/html": [
       "<div>\n",
       "<style scoped>\n",
       "    .dataframe tbody tr th:only-of-type {\n",
       "        vertical-align: middle;\n",
       "    }\n",
       "\n",
       "    .dataframe tbody tr th {\n",
       "        vertical-align: top;\n",
       "    }\n",
       "\n",
       "    .dataframe thead th {\n",
       "        text-align: right;\n",
       "    }\n",
       "</style>\n",
       "<table border=\"1\" class=\"dataframe\">\n",
       "  <thead>\n",
       "    <tr style=\"text-align: right;\">\n",
       "      <th></th>\n",
       "      <th>country</th>\n",
       "      <th>year</th>\n",
       "      <th>sex</th>\n",
       "      <th>age</th>\n",
       "      <th>suicides_no</th>\n",
       "      <th>population</th>\n",
       "      <th>suicides/100k_pop</th>\n",
       "      <th>HDI_for_year</th>\n",
       "      <th>gdp_for_year</th>\n",
       "      <th>gdp_per_capita</th>\n",
       "      <th>generation</th>\n",
       "    </tr>\n",
       "  </thead>\n",
       "  <tbody>\n",
       "    <tr>\n",
       "      <th>0</th>\n",
       "      <td>32</td>\n",
       "      <td>2000</td>\n",
       "      <td>0</td>\n",
       "      <td>5</td>\n",
       "      <td>202</td>\n",
       "      <td>363000</td>\n",
       "      <td>55.65</td>\n",
       "      <td>0.694</td>\n",
       "      <td>88.417</td>\n",
       "      <td>3264</td>\n",
       "      <td>0</td>\n",
       "    </tr>\n",
       "    <tr>\n",
       "      <th>1</th>\n",
       "      <td>32</td>\n",
       "      <td>2014</td>\n",
       "      <td>0</td>\n",
       "      <td>4</td>\n",
       "      <td>485</td>\n",
       "      <td>1997000</td>\n",
       "      <td>24.29</td>\n",
       "      <td>0.694</td>\n",
       "      <td>88.417</td>\n",
       "      <td>3264</td>\n",
       "      <td>0</td>\n",
       "    </tr>\n",
       "    <tr>\n",
       "      <th>2</th>\n",
       "      <td>32</td>\n",
       "      <td>2013</td>\n",
       "      <td>1</td>\n",
       "      <td>3</td>\n",
       "      <td>414</td>\n",
       "      <td>3346300</td>\n",
       "      <td>12.37</td>\n",
       "      <td>0.694</td>\n",
       "      <td>88.417</td>\n",
       "      <td>3264</td>\n",
       "      <td>1</td>\n",
       "    </tr>\n",
       "    <tr>\n",
       "      <th>3</th>\n",
       "      <td>32</td>\n",
       "      <td>1986</td>\n",
       "      <td>1</td>\n",
       "      <td>4</td>\n",
       "      <td>210</td>\n",
       "      <td>2304000</td>\n",
       "      <td>9.11</td>\n",
       "      <td>0.694</td>\n",
       "      <td>88.417</td>\n",
       "      <td>3264</td>\n",
       "      <td>0</td>\n",
       "    </tr>\n",
       "    <tr>\n",
       "      <th>4</th>\n",
       "      <td>32</td>\n",
       "      <td>1998</td>\n",
       "      <td>0</td>\n",
       "      <td>2</td>\n",
       "      <td>177</td>\n",
       "      <td>2234200</td>\n",
       "      <td>7.92</td>\n",
       "      <td>0.694</td>\n",
       "      <td>88.417</td>\n",
       "      <td>3264</td>\n",
       "      <td>2</td>\n",
       "    </tr>\n",
       "  </tbody>\n",
       "</table>\n",
       "</div>"
      ],
      "text/plain": [
       "   country  year  sex  age  suicides_no  population  suicides/100k_pop  \\\n",
       "0       32  2000    0    5          202      363000              55.65   \n",
       "1       32  2014    0    4          485     1997000              24.29   \n",
       "2       32  2013    1    3          414     3346300              12.37   \n",
       "3       32  1986    1    4          210     2304000               9.11   \n",
       "4       32  1998    0    2          177     2234200               7.92   \n",
       "\n",
       "   HDI_for_year  gdp_for_year  gdp_per_capita  generation  \n",
       "0         0.694        88.417            3264           0  \n",
       "1         0.694        88.417            3264           0  \n",
       "2         0.694        88.417            3264           1  \n",
       "3         0.694        88.417            3264           0  \n",
       "4         0.694        88.417            3264           2  "
      ]
     },
     "execution_count": 10,
     "metadata": {
      "tags": []
     },
     "output_type": "execute_result"
    }
   ],
   "source": [
    "d_sex=d\n",
    "d_sex.sex=np.random.permutation(d_sex.sex)\n",
    "d_sex.head()"
   ]
  },
  {
   "cell_type": "code",
   "execution_count": 0,
   "metadata": {
    "colab": {},
    "colab_type": "code",
    "id": "r1UKOESsz00s",
    "slideshow": {
     "slide_type": "slide"
    }
   },
   "outputs": [],
   "source": [
    "X = d_sex.values[:,[0,1,2,3,5,7,8,9,10]]\n",
    "y = d_sex.values[:,4]"
   ]
  },
  {
   "cell_type": "code",
   "execution_count": 0,
   "metadata": {
    "colab": {},
    "colab_type": "code",
    "id": "sy0Go5JFz00w",
    "outputId": "5f290847-f65c-4f9f-a735-397bff730bb7",
    "slideshow": {
     "slide_type": "slide"
    }
   },
   "outputs": [
    {
     "name": "stdout",
     "output_type": "stream",
     "text": [
      "dimensiones train (3936, 9) (3936,)\n",
      "dimsensions test  (984, 9) (984,)\n",
      "acierto en train 1.0\n",
      "acierto en test  0.351511000872\n"
     ]
    }
   ],
   "source": [
    "from sklearn.model_selection import train_test_split\n",
    "from sklearn.tree import DecisionTreeRegressor\n",
    "\n",
    "test_size = 0.2\n",
    "\n",
    "d_train, d_test, c_train, c_test = train_test_split(X,y,test_size=test_size)\n",
    "\n",
    "print \"dimensiones train\", d_train.shape, c_train.shape\n",
    "print \"dimsensions test \", d_test.shape, c_test.shape\n",
    "\n",
    "dt = DecisionTreeRegressor()\n",
    "dt.fit(d_train, c_train)\n",
    "print \"acierto en train\", dt.score(d_train, c_train)\n",
    "print \"acierto en test \", dt.score(d_test, c_test)\n",
    "\n",
    "predicciones_train = dt.predict(d_train)\n",
    "predicciones_test  = dt.predict(d_test)"
   ]
  },
  {
   "cell_type": "markdown",
   "metadata": {
    "colab_type": "text",
    "id": "0u_gk42rz005",
    "slideshow": {
     "slide_type": "slide"
    }
   },
   "source": [
    "## <center>Conclusión:\n",
    "    Despues de permutar la columna sex realizamos el train y test nuevamente, y podemos observar que el metodo se ve bastante afectado"
   ]
  },
  {
   "cell_type": "markdown",
   "metadata": {
    "colab_type": "text",
    "id": "KkjNyUrXz006",
    "slideshow": {
     "slide_type": "slide"
    }
   },
   "source": [
    "### Hipotesis 3: La poblacion influye en gran medida con el numero de suicidios."
   ]
  },
  {
   "cell_type": "code",
   "execution_count": 0,
   "metadata": {
    "colab": {},
    "colab_type": "code",
    "id": "qQSzPSKZz006",
    "outputId": "1c1b4f12-05a2-471e-f64b-792f44bd39fb",
    "slideshow": {
     "slide_type": "slide"
    }
   },
   "outputs": [
    {
     "data": {
      "text/html": [
       "<div>\n",
       "<style scoped>\n",
       "    .dataframe tbody tr th:only-of-type {\n",
       "        vertical-align: middle;\n",
       "    }\n",
       "\n",
       "    .dataframe tbody tr th {\n",
       "        vertical-align: top;\n",
       "    }\n",
       "\n",
       "    .dataframe thead th {\n",
       "        text-align: right;\n",
       "    }\n",
       "</style>\n",
       "<table border=\"1\" class=\"dataframe\">\n",
       "  <thead>\n",
       "    <tr style=\"text-align: right;\">\n",
       "      <th></th>\n",
       "      <th>country</th>\n",
       "      <th>year</th>\n",
       "      <th>sex</th>\n",
       "      <th>age</th>\n",
       "      <th>suicides_no</th>\n",
       "      <th>population</th>\n",
       "      <th>suicides/100k_pop</th>\n",
       "      <th>HDI_for_year</th>\n",
       "      <th>gdp_for_year</th>\n",
       "      <th>gdp_per_capita</th>\n",
       "      <th>generation</th>\n",
       "    </tr>\n",
       "  </thead>\n",
       "  <tbody>\n",
       "    <tr>\n",
       "      <th>2560</th>\n",
       "      <td>392</td>\n",
       "      <td>1999</td>\n",
       "      <td>0</td>\n",
       "      <td>2</td>\n",
       "      <td>2595</td>\n",
       "      <td>9242000</td>\n",
       "      <td>28.08</td>\n",
       "      <td>0.861</td>\n",
       "      <td>4562.079</td>\n",
       "      <td>38164</td>\n",
       "      <td>3</td>\n",
       "    </tr>\n",
       "  </tbody>\n",
       "</table>\n",
       "</div>"
      ],
      "text/plain": [
       "      country  year  sex  age  suicides_no  population  suicides/100k_pop  \\\n",
       "2560      392  1999    0    2         2595     9242000              28.08   \n",
       "\n",
       "      HDI_for_year  gdp_for_year  gdp_per_capita  generation  \n",
       "2560         0.861      4562.079           38164           3  "
      ]
     },
     "execution_count": 195,
     "metadata": {
      "tags": []
     },
     "output_type": "execute_result"
    },
    {
     "data": {
      "image/png": "[encoded data removed]",
      "text/plain": [
       "<matplotlib.figure.Figure at 0x7f6f08fe52d0>"
      ]
     },
     "metadata": {
      "tags": []
     },
     "output_type": "display_data"
    }
   ],
   "source": [
    "eje = []\n",
    "import random\n",
    "tamano = len(X)\n",
    "ran = random.randrange(tamano)\n",
    "sample = np.array([X[ran]],dtype=object)\n",
    "for i in np.unique(d.population):\n",
    "  sample[0][4] = i\n",
    "  eje.append(dt.predict(sample))\n",
    "\n",
    " \n",
    "plt.xlabel('Population')\n",
    "plt.ylabel('Suicides No')\n",
    "titulo = country_codes.English_short_name_lower_case[country_codes.Numeric_code == sample[0][0]].values[0]\n",
    "plt.title(titulo)  \n",
    "plt.plot(np.unique(d.population),eje)\n",
    "\n",
    "d[d.index == ran]"
   ]
  },
  {
   "cell_type": "code",
   "execution_count": 0,
   "metadata": {
    "colab": {},
    "colab_type": "code",
    "id": "iiPxp_YSz00_",
    "outputId": "6149ec16-04fd-4617-f10f-bf777419abad",
    "slideshow": {
     "slide_type": "slide"
    }
   },
   "outputs": [
    {
     "data": {
      "text/html": [
       "<div>\n",
       "<style scoped>\n",
       "    .dataframe tbody tr th:only-of-type {\n",
       "        vertical-align: middle;\n",
       "    }\n",
       "\n",
       "    .dataframe tbody tr th {\n",
       "        vertical-align: top;\n",
       "    }\n",
       "\n",
       "    .dataframe thead th {\n",
       "        text-align: right;\n",
       "    }\n",
       "</style>\n",
       "<table border=\"1\" class=\"dataframe\">\n",
       "  <thead>\n",
       "    <tr style=\"text-align: right;\">\n",
       "      <th></th>\n",
       "      <th>country</th>\n",
       "      <th>year</th>\n",
       "      <th>sex</th>\n",
       "      <th>age</th>\n",
       "      <th>suicides_no</th>\n",
       "      <th>population</th>\n",
       "      <th>suicides/100k_pop</th>\n",
       "      <th>HDI_for_year</th>\n",
       "      <th>gdp_for_year</th>\n",
       "      <th>gdp_per_capita</th>\n",
       "      <th>generation</th>\n",
       "    </tr>\n",
       "  </thead>\n",
       "  <tbody>\n",
       "    <tr>\n",
       "      <th>0</th>\n",
       "      <td>32</td>\n",
       "      <td>2000</td>\n",
       "      <td>0</td>\n",
       "      <td>5</td>\n",
       "      <td>202</td>\n",
       "      <td>1018423</td>\n",
       "      <td>55.65</td>\n",
       "      <td>0.694</td>\n",
       "      <td>88.417</td>\n",
       "      <td>3264</td>\n",
       "      <td>0</td>\n",
       "    </tr>\n",
       "    <tr>\n",
       "      <th>1</th>\n",
       "      <td>32</td>\n",
       "      <td>2014</td>\n",
       "      <td>0</td>\n",
       "      <td>4</td>\n",
       "      <td>485</td>\n",
       "      <td>1344897</td>\n",
       "      <td>24.29</td>\n",
       "      <td>0.694</td>\n",
       "      <td>88.417</td>\n",
       "      <td>3264</td>\n",
       "      <td>0</td>\n",
       "    </tr>\n",
       "    <tr>\n",
       "      <th>2</th>\n",
       "      <td>32</td>\n",
       "      <td>2013</td>\n",
       "      <td>1</td>\n",
       "      <td>3</td>\n",
       "      <td>414</td>\n",
       "      <td>1123771</td>\n",
       "      <td>12.37</td>\n",
       "      <td>0.694</td>\n",
       "      <td>88.417</td>\n",
       "      <td>3264</td>\n",
       "      <td>1</td>\n",
       "    </tr>\n",
       "    <tr>\n",
       "      <th>3</th>\n",
       "      <td>32</td>\n",
       "      <td>1986</td>\n",
       "      <td>1</td>\n",
       "      <td>4</td>\n",
       "      <td>210</td>\n",
       "      <td>2678474</td>\n",
       "      <td>9.11</td>\n",
       "      <td>0.694</td>\n",
       "      <td>88.417</td>\n",
       "      <td>3264</td>\n",
       "      <td>0</td>\n",
       "    </tr>\n",
       "    <tr>\n",
       "      <th>4</th>\n",
       "      <td>32</td>\n",
       "      <td>1998</td>\n",
       "      <td>0</td>\n",
       "      <td>2</td>\n",
       "      <td>177</td>\n",
       "      <td>3125122</td>\n",
       "      <td>7.92</td>\n",
       "      <td>0.694</td>\n",
       "      <td>88.417</td>\n",
       "      <td>3264</td>\n",
       "      <td>2</td>\n",
       "    </tr>\n",
       "  </tbody>\n",
       "</table>\n",
       "</div>"
      ],
      "text/plain": [
       "   country  year  sex  age  suicides_no  population  suicides/100k_pop  \\\n",
       "0       32  2000    0    5          202     1018423              55.65   \n",
       "1       32  2014    0    4          485     1344897              24.29   \n",
       "2       32  2013    1    3          414     1123771              12.37   \n",
       "3       32  1986    1    4          210     2678474               9.11   \n",
       "4       32  1998    0    2          177     3125122               7.92   \n",
       "\n",
       "   HDI_for_year  gdp_for_year  gdp_per_capita  generation  \n",
       "0         0.694        88.417            3264           0  \n",
       "1         0.694        88.417            3264           0  \n",
       "2         0.694        88.417            3264           1  \n",
       "3         0.694        88.417            3264           0  \n",
       "4         0.694        88.417            3264           2  "
      ]
     },
     "execution_count": 13,
     "metadata": {
      "tags": []
     },
     "output_type": "execute_result"
    }
   ],
   "source": [
    "d_population=d\n",
    "d_population.population=np.random.permutation(d_population.population)\n",
    "d_population.head()"
   ]
  },
  {
   "cell_type": "code",
   "execution_count": 0,
   "metadata": {
    "colab": {},
    "colab_type": "code",
    "id": "TQ7RZ4qHz01D",
    "outputId": "3b4185f0-7630-4cfa-eeef-97eb9ed517ab",
    "slideshow": {
     "slide_type": "slide"
    }
   },
   "outputs": [
    {
     "name": "stdout",
     "output_type": "stream",
     "text": [
      "dimensiones train (3936, 9) (3936,)\n",
      "dimsensions test  (984, 9) (984,)\n",
      "acierto en train 1.0\n",
      "acierto en test  0.344402275451\n"
     ]
    }
   ],
   "source": [
    "X = d_population.values[:,[0,1,2,3,5,7,8,9,10]]\n",
    "y = d_population.values[:,4]\n",
    "\n",
    "from sklearn.model_selection import train_test_split\n",
    "from sklearn.tree import DecisionTreeRegressor\n",
    "\n",
    "test_size = 0.2\n",
    "\n",
    "d_train, d_test, c_train, c_test = train_test_split(X,y,test_size=test_size)\n",
    "\n",
    "print \"dimensiones train\", d_train.shape, c_train.shape\n",
    "print \"dimsensions test \", d_test.shape, c_test.shape\n",
    "\n",
    "dt = DecisionTreeRegressor()\n",
    "dt.fit(d_train, c_train)\n",
    "print \"acierto en train\", dt.score(d_train, c_train)\n",
    "print \"acierto en test \", dt.score(d_test, c_test)\n",
    "\n",
    "predicciones_train = dt.predict(d_train)\n",
    "predicciones_test  = dt.predict(d_test)"
   ]
  },
  {
   "cell_type": "markdown",
   "metadata": {
    "colab_type": "text",
    "id": "RHnf-eu2z01H",
    "slideshow": {
     "slide_type": "slide"
    }
   },
   "source": [
    "## <center>Conclusión:\n",
    "    Despues de permutar la columna population realizamos el train y test nuevamente, y podemos observar que el metodo se ve bastante afectado"
   ]
  },
  {
   "cell_type": "markdown",
   "metadata": {
    "colab_type": "text",
    "id": "6CvgyKqdz01I",
    "slideshow": {
     "slide_type": "slide"
    }
   },
   "source": [
    "## Hipotesis 4: El HDI afecta en gran medida "
   ]
  },
  {
   "cell_type": "code",
   "execution_count": 0,
   "metadata": {
    "colab": {},
    "colab_type": "code",
    "id": "XQzT5nIIz01K",
    "outputId": "595b3904-5756-460b-9b80-7b364dfa98ea",
    "slideshow": {
     "slide_type": "slide"
    }
   },
   "outputs": [
    {
     "data": {
      "text/html": [
       "<div>\n",
       "<style scoped>\n",
       "    .dataframe tbody tr th:only-of-type {\n",
       "        vertical-align: middle;\n",
       "    }\n",
       "\n",
       "    .dataframe tbody tr th {\n",
       "        vertical-align: top;\n",
       "    }\n",
       "\n",
       "    .dataframe thead th {\n",
       "        text-align: right;\n",
       "    }\n",
       "</style>\n",
       "<table border=\"1\" class=\"dataframe\">\n",
       "  <thead>\n",
       "    <tr style=\"text-align: right;\">\n",
       "      <th></th>\n",
       "      <th>country</th>\n",
       "      <th>year</th>\n",
       "      <th>sex</th>\n",
       "      <th>age</th>\n",
       "      <th>suicides_no</th>\n",
       "      <th>population</th>\n",
       "      <th>suicides/100k_pop</th>\n",
       "      <th>HDI_for_year</th>\n",
       "      <th>gdp_for_year</th>\n",
       "      <th>gdp_per_capita</th>\n",
       "      <th>generation</th>\n",
       "    </tr>\n",
       "  </thead>\n",
       "  <tbody>\n",
       "    <tr>\n",
       "      <th>0</th>\n",
       "      <td>32</td>\n",
       "      <td>2000</td>\n",
       "      <td>0</td>\n",
       "      <td>5</td>\n",
       "      <td>202</td>\n",
       "      <td>1018423</td>\n",
       "      <td>55.65</td>\n",
       "      <td>0.838</td>\n",
       "      <td>88.417</td>\n",
       "      <td>3264</td>\n",
       "      <td>0</td>\n",
       "    </tr>\n",
       "    <tr>\n",
       "      <th>1</th>\n",
       "      <td>32</td>\n",
       "      <td>2014</td>\n",
       "      <td>0</td>\n",
       "      <td>4</td>\n",
       "      <td>485</td>\n",
       "      <td>1344897</td>\n",
       "      <td>24.29</td>\n",
       "      <td>0.811</td>\n",
       "      <td>88.417</td>\n",
       "      <td>3264</td>\n",
       "      <td>0</td>\n",
       "    </tr>\n",
       "    <tr>\n",
       "      <th>2</th>\n",
       "      <td>32</td>\n",
       "      <td>2013</td>\n",
       "      <td>1</td>\n",
       "      <td>3</td>\n",
       "      <td>414</td>\n",
       "      <td>1123771</td>\n",
       "      <td>12.37</td>\n",
       "      <td>0.881</td>\n",
       "      <td>88.417</td>\n",
       "      <td>3264</td>\n",
       "      <td>1</td>\n",
       "    </tr>\n",
       "    <tr>\n",
       "      <th>3</th>\n",
       "      <td>32</td>\n",
       "      <td>1986</td>\n",
       "      <td>1</td>\n",
       "      <td>4</td>\n",
       "      <td>210</td>\n",
       "      <td>2678474</td>\n",
       "      <td>9.11</td>\n",
       "      <td>0.662</td>\n",
       "      <td>88.417</td>\n",
       "      <td>3264</td>\n",
       "      <td>0</td>\n",
       "    </tr>\n",
       "    <tr>\n",
       "      <th>4</th>\n",
       "      <td>32</td>\n",
       "      <td>1998</td>\n",
       "      <td>0</td>\n",
       "      <td>2</td>\n",
       "      <td>177</td>\n",
       "      <td>3125122</td>\n",
       "      <td>7.92</td>\n",
       "      <td>0.771</td>\n",
       "      <td>88.417</td>\n",
       "      <td>3264</td>\n",
       "      <td>2</td>\n",
       "    </tr>\n",
       "  </tbody>\n",
       "</table>\n",
       "</div>"
      ],
      "text/plain": [
       "   country  year  sex  age  suicides_no  population  suicides/100k_pop  \\\n",
       "0       32  2000    0    5          202     1018423              55.65   \n",
       "1       32  2014    0    4          485     1344897              24.29   \n",
       "2       32  2013    1    3          414     1123771              12.37   \n",
       "3       32  1986    1    4          210     2678474               9.11   \n",
       "4       32  1998    0    2          177     3125122               7.92   \n",
       "\n",
       "   HDI_for_year  gdp_for_year  gdp_per_capita  generation  \n",
       "0         0.838        88.417            3264           0  \n",
       "1         0.811        88.417            3264           0  \n",
       "2         0.881        88.417            3264           1  \n",
       "3         0.662        88.417            3264           0  \n",
       "4         0.771        88.417            3264           2  "
      ]
     },
     "execution_count": 16,
     "metadata": {
      "tags": []
     },
     "output_type": "execute_result"
    }
   ],
   "source": [
    "d_hdi=d\n",
    "d_hdi.HDI_for_year=np.random.permutation(d_hdi.HDI_for_year)\n",
    "d_hdi.head()"
   ]
  },
  {
   "cell_type": "code",
   "execution_count": 0,
   "metadata": {
    "colab": {},
    "colab_type": "code",
    "id": "AsIJrtT9z01N",
    "outputId": "369425ec-76da-4d56-c042-a052a9a98481",
    "slideshow": {
     "slide_type": "slide"
    }
   },
   "outputs": [
    {
     "name": "stdout",
     "output_type": "stream",
     "text": [
      "dimensiones train (3936, 9) (3936,)\n",
      "dimsensions test  (984, 9) (984,)\n",
      "acierto en train 1.0\n",
      "acierto en test  0.356977032577\n"
     ]
    }
   ],
   "source": [
    "X = d_hdi.values[:,[0,1,2,3,5,7,8,9,10]]\n",
    "y = d_hdi.values[:,4]\n",
    "\n",
    "from sklearn.model_selection import train_test_split\n",
    "from sklearn.tree import DecisionTreeRegressor\n",
    "\n",
    "test_size = 0.2\n",
    "\n",
    "d_train, d_test, c_train, c_test = train_test_split(X,y,test_size=test_size)\n",
    "\n",
    "print \"dimensiones train\", d_train.shape, c_train.shape\n",
    "print \"dimsensions test \", d_test.shape, c_test.shape\n",
    "\n",
    "dt = DecisionTreeRegressor()\n",
    "dt.fit(d_train, c_train)\n",
    "print \"acierto en train\", dt.score(d_train, c_train)\n",
    "print \"acierto en test \", dt.score(d_test, c_test)\n",
    "\n",
    "predicciones_train = dt.predict(d_train)\n",
    "predicciones_test  = dt.predict(d_test)"
   ]
  },
  {
   "cell_type": "markdown",
   "metadata": {
    "colab_type": "text",
    "id": "ZZBRWigvz01T",
    "slideshow": {
     "slide_type": "slide"
    }
   },
   "source": [
    "## <center>Conclusión:\n",
    "    Despues de permutar la columna HDI_for_year realizamos el train y test nuevamente, y podemos observar que el metodo se ve bastante afectado"
   ]
  },
  {
   "cell_type": "markdown",
   "metadata": {
    "colab_type": "text",
    "id": "5RbopoQpz01U",
    "slideshow": {
     "slide_type": "slide"
    }
   },
   "source": [
    "<h2><strong><center>Con ayuda del modelo presentado se pueden realizar predicciones con respecto al comportamiento de los suicidios de un pais si este cambia las condiciones de vida a sus habitante, teniendo como foco aquellos aspectos que afectan en mayor medida esta tasa.</strong></h2>\n",
    "\n"
   ]
  },
  {
   "cell_type": "markdown",
   "metadata": {
    "colab_type": "text",
    "id": "UiiJUSvgz01V",
    "slideshow": {
     "slide_type": "slide"
    }
   },
   "source": [
    "#  <center>      ¡Gracias! </center>"
   ]
  },
  {
   "cell_type": "code",
   "execution_count": 0,
   "metadata": {
    "colab": {},
    "colab_type": "code",
    "id": "gjrgK_FAz01W",
    "outputId": "980787b4-2fe6-4bc5-b631-540aeb8419ef",
    "slideshow": {
     "slide_type": "skip"
    }
   },
   "outputs": [
    {
     "name": "stdout",
     "output_type": "stream",
     "text": [
      "[[616 1991 1 0 4987100 0.8029999999999999 85.501 2416 2]]\n",
      "[[616 1991 1 1 4987100 0.8029999999999999 85.501 2416 2]]\n",
      "[[616 1991 1 2 4987100 0.8029999999999999 85.501 2416 2]]\n",
      "[[616 1991 1 3 4987100 0.8029999999999999 85.501 2416 2]]\n",
      "[[616 1991 1 4 4987100 0.8029999999999999 85.501 2416 2]]\n",
      "[[616 1991 1 5 4987100 0.8029999999999999 85.501 2416 2]]\n"
     ]
    },
    {
     "data": {
      "text/html": [
       "<div>\n",
       "<style scoped>\n",
       "    .dataframe tbody tr th:only-of-type {\n",
       "        vertical-align: middle;\n",
       "    }\n",
       "\n",
       "    .dataframe tbody tr th {\n",
       "        vertical-align: top;\n",
       "    }\n",
       "\n",
       "    .dataframe thead th {\n",
       "        text-align: right;\n",
       "    }\n",
       "</style>\n",
       "<table border=\"1\" class=\"dataframe\">\n",
       "  <thead>\n",
       "    <tr style=\"text-align: right;\">\n",
       "      <th></th>\n",
       "      <th>country</th>\n",
       "      <th>year</th>\n",
       "      <th>sex</th>\n",
       "      <th>age</th>\n",
       "      <th>suicides_no</th>\n",
       "      <th>population</th>\n",
       "      <th>suicides/100k_pop</th>\n",
       "      <th>HDI_for_year</th>\n",
       "      <th>gdp_for_year</th>\n",
       "      <th>gdp_per_capita</th>\n",
       "      <th>generation</th>\n",
       "    </tr>\n",
       "  </thead>\n",
       "  <tbody>\n",
       "    <tr>\n",
       "      <th>3462</th>\n",
       "      <td>616</td>\n",
       "      <td>1991</td>\n",
       "      <td>1</td>\n",
       "      <td>3</td>\n",
       "      <td>358</td>\n",
       "      <td>4987100</td>\n",
       "      <td>7.18</td>\n",
       "      <td>0.803</td>\n",
       "      <td>85.501</td>\n",
       "      <td>2416</td>\n",
       "      <td>2</td>\n",
       "    </tr>\n",
       "  </tbody>\n",
       "</table>\n",
       "</div>"
      ],
      "text/plain": [
       "      country  year  sex  age  suicides_no  population  suicides/100k_pop  \\\n",
       "3462      616  1991    1    3          358     4987100               7.18   \n",
       "\n",
       "      HDI_for_year  gdp_for_year  gdp_per_capita  generation  \n",
       "3462         0.803        85.501            2416           2  "
      ]
     },
     "execution_count": 197,
     "metadata": {
      "tags": []
     },
     "output_type": "execute_result"
    },
    {
     "data": {
      "image/png": "[encoded data removed]",
      "text/plain": [
       "<matplotlib.figure.Figure at 0x7f6f08e98f10>"
      ]
     },
     "metadata": {
      "tags": []
     },
     "output_type": "display_data"
    }
   ],
   "source": [
    "eje = []\n",
    "import random\n",
    "tamano = len(X)\n",
    "ran = random.randrange(tamano)\n",
    "sample = np.array([X[ran]],dtype=object)\n",
    "for i in np.unique(d.age):\n",
    "  sample[0][3] = i\n",
    "  print(sample)\n",
    "  eje.append(dt.predict(sample))\n",
    "\n",
    " \n",
    "plt.xlabel('Age')\n",
    "plt.ylabel('Suicides No')\n",
    "titulo = country_codes.English_short_name_lower_case[country_codes.Numeric_code == sample[0][0]].values[0]\n",
    "plt.title(titulo)  \n",
    "plt.plot(np.unique(d.age),eje)\n",
    "\n",
    "d[d.index == ran]"
   ]
  },
  {
   "cell_type": "code",
   "execution_count": null,
   "metadata": {
    "colab": {
     "base_uri": "https://localhost:8080/",
     "height": 921
    },
    "colab_type": "code",
    "id": "YCvgZyS41oVi",
    "outputId": "188b9bbb-2157-4099-b557-f4784ee486b8"
   },
   "outputs": [
    {
     "name": "stdout",
     "output_type": "stream",
     "text": [
      "[NbConvertApp] Converting notebook PROYECTO_SUICIDIOS.ipynb to slides\n",
      "[NbConvertApp] Writing 824993 bytes to PROYECTO_SUICIDIOS.slides.html\n",
      "[NbConvertApp] Redirecting reveal.js requests to https://cdnjs.cloudflare.com/ajax/libs/reveal.js/3.5.0\n",
      "Serving your slides at http://127.0.0.1:8000/PROYECTO_SUICIDIOS.slides.html\n",
      "Use Control-C to stop this server\n",
      "WARNING:tornado.access:404 GET /custom.css (127.0.0.1) 1.49ms\n",
      "WARNING:tornado.access:404 GET /custom.css (127.0.0.1) 1.66ms\n",
      "WARNING:tornado.access:404 GET /favicon.ico (127.0.0.1) 1.19ms\n"
     ]
    }
   ],
   "source": [
    "!jupyter nbconvert PROYECTO_SUICIDIOS.ipynb --to slides --post serve \n",
    "!--SlidesExporter.reveal_theme=serif \n",
    "!--SlidesExporter.reveal_scroll=True \n",
    "!--SlidesExporter.reveal_transition=none"
   ]
  }
 ],
 "metadata": {
  "celltoolbar": "Slideshow",
  "colab": {
   "collapsed_sections": [],
   "name": "PROYECTO_SUICIDIOS.ipynb",
   "provenance": [],
   "toc_visible": true,
   "version": "0.3.2"
  },
  "kernelspec": {
   "display_name": "Python 2",
   "language": "python",
   "name": "python2"
  },
  "language_info": {
   "codemirror_mode": {
    "name": "ipython",
    "version": 2
   },
   "file_extension": ".py",
   "mimetype": "text/x-python",
   "name": "python",
   "nbconvert_exporter": "python",
   "pygments_lexer": "ipython2",
   "version": "2.7.16"
  }
 },
 "nbformat": 4,
 "nbformat_minor": 1
}
